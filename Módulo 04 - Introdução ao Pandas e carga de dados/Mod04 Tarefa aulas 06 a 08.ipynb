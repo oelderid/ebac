{
 "cells": [
  {
   "cell_type": "markdown",
   "metadata": {},
   "source": [
    "# Tarefa 03\n",
    "\n",
    "- Leia os enunciados com atenção\n",
    "- Saiba que pode haver mais de uma resposta correta\n",
    "- Insira novas células de código sempre que achar necessário\n",
    "- Em caso de dúvidas, procure os Tutores\n",
    "- Divirta-se :)"
   ]
  },
  {
   "cell_type": "code",
   "execution_count": 1,
   "metadata": {},
   "outputs": [],
   "source": [
    "import pandas as pd\n",
    "import requests"
   ]
  },
  {
   "cell_type": "markdown",
   "metadata": {},
   "source": [
    "####  1) Lendo de APIs\n",
    "Vimos em aula como carregar dados públicos do governo através de um API (*Application Programming Interface*). No exemplo de aula, baixamos os dados de pedidos de verificação de limites (PVL) realizados por estados, e selecionamos apenas aqueles referentes ao estado de São Paulo.\n",
    "\n",
    "1. Repita os mesmos passos feitos em aula, mas selecione os PVLs realizados por municípios no estado do Rio de Janeiro.\n",
    "2. Quais são os três *status* das solicitações mais frequentes na base? Quais são suas frequências?\n",
    "3. Construa uma nova variável que contenha o ano do **status**. Observe que ```data_status``` vem como tipo *object* no **DataFrame**. Dica: você pode usar o método ```.str``` para transformar o tipo da variável em string, em seguida um método como [**slice()**](https://pandas.pydata.org/docs/reference/api/pandas.Series.str.slice.html) ou [**split()**](https://pandas.pydata.org/pandas-docs/stable/reference/api/pandas.Series.str.split.html).\n",
    "4. Indique a frequência de cada ano do campo construído no item (3)."
   ]
  },
  {
   "cell_type": "code",
   "execution_count": 9,
   "metadata": {},
   "outputs": [
    {
     "data": {
      "text/html": [
       "<div>\n",
       "<style scoped>\n",
       "    .dataframe tbody tr th:only-of-type {\n",
       "        vertical-align: middle;\n",
       "    }\n",
       "\n",
       "    .dataframe tbody tr th {\n",
       "        vertical-align: top;\n",
       "    }\n",
       "\n",
       "    .dataframe thead th {\n",
       "        text-align: right;\n",
       "    }\n",
       "</style>\n",
       "<table border=\"1\" class=\"dataframe\">\n",
       "  <thead>\n",
       "    <tr style=\"text-align: right;\">\n",
       "      <th></th>\n",
       "      <th>id_pleito</th>\n",
       "      <th>tipo_interessado</th>\n",
       "      <th>interessado</th>\n",
       "      <th>cod_ibge</th>\n",
       "      <th>uf</th>\n",
       "      <th>num_pvl</th>\n",
       "      <th>status</th>\n",
       "      <th>num_processo</th>\n",
       "      <th>data_protocolo</th>\n",
       "      <th>tipo_operacao</th>\n",
       "      <th>finalidade</th>\n",
       "      <th>tipo_credor</th>\n",
       "      <th>credor</th>\n",
       "      <th>moeda</th>\n",
       "      <th>valor</th>\n",
       "      <th>pvl_assoc_divida</th>\n",
       "      <th>pvl_contradado_credor</th>\n",
       "      <th>data_status</th>\n",
       "    </tr>\n",
       "  </thead>\n",
       "  <tbody>\n",
       "    <tr>\n",
       "      <th>0</th>\n",
       "      <td>12070</td>\n",
       "      <td>Estado</td>\n",
       "      <td>Sergipe</td>\n",
       "      <td>28</td>\n",
       "      <td>SE</td>\n",
       "      <td>None</td>\n",
       "      <td>Arquivado</td>\n",
       "      <td>17944.001597/2007-37</td>\n",
       "      <td>2009-07-01T03:00:00Z</td>\n",
       "      <td>Operação contratual externa (com garantia da U...</td>\n",
       "      <td>Desenvolvimento sustentável</td>\n",
       "      <td>Instituição Financeira Internacional</td>\n",
       "      <td>Banco Interamericano de Desenvolvimento</td>\n",
       "      <td>Dólar dos EUA</td>\n",
       "      <td>6.720000e+07</td>\n",
       "      <td>0</td>\n",
       "      <td>0</td>\n",
       "      <td>21/07/2009</td>\n",
       "    </tr>\n",
       "    <tr>\n",
       "      <th>1</th>\n",
       "      <td>10836</td>\n",
       "      <td>Estado</td>\n",
       "      <td>São Paulo</td>\n",
       "      <td>35</td>\n",
       "      <td>SP</td>\n",
       "      <td>None</td>\n",
       "      <td>Encaminhado à PGFN com manifestação técnica fa...</td>\n",
       "      <td>17944.001297/2014-87</td>\n",
       "      <td>2015-11-13T17:12:11Z</td>\n",
       "      <td>Operação contratual interna (com garantia da U...</td>\n",
       "      <td>Infraestrutura</td>\n",
       "      <td>Instituição Financeira Nacional</td>\n",
       "      <td>Caixa Econômica Federal</td>\n",
       "      <td>Real</td>\n",
       "      <td>6.900000e+08</td>\n",
       "      <td>1</td>\n",
       "      <td>0</td>\n",
       "      <td>04/02/2016</td>\n",
       "    </tr>\n",
       "    <tr>\n",
       "      <th>2</th>\n",
       "      <td>10844</td>\n",
       "      <td>Estado</td>\n",
       "      <td>Santa Catarina</td>\n",
       "      <td>42</td>\n",
       "      <td>SC</td>\n",
       "      <td>None</td>\n",
       "      <td>Encaminhado à PGFN com manifestação técnica fa...</td>\n",
       "      <td>17944.001299/2012-12</td>\n",
       "      <td>2012-11-26T02:00:00Z</td>\n",
       "      <td>Operação contratual externa (com garantia da U...</td>\n",
       "      <td>Reestruturação e recomposição do principal de ...</td>\n",
       "      <td>Instituição Financeira Internacional</td>\n",
       "      <td>Bank of America Merrill Lynch</td>\n",
       "      <td>Dólar dos EUA</td>\n",
       "      <td>7.264416e+08</td>\n",
       "      <td>1</td>\n",
       "      <td>0</td>\n",
       "      <td>03/01/2013</td>\n",
       "    </tr>\n",
       "    <tr>\n",
       "      <th>3</th>\n",
       "      <td>10859</td>\n",
       "      <td>Estado</td>\n",
       "      <td>Bahia</td>\n",
       "      <td>29</td>\n",
       "      <td>BA</td>\n",
       "      <td>None</td>\n",
       "      <td>Deferido</td>\n",
       "      <td>17944.001302/2013-71</td>\n",
       "      <td>2013-10-11T03:00:00Z</td>\n",
       "      <td>Operação contratual interna</td>\n",
       "      <td>PAC 2 - Mobilidade Grandes Cidades</td>\n",
       "      <td>Instituição Financeira Nacional</td>\n",
       "      <td>Caixa Econômica Federal</td>\n",
       "      <td>Real</td>\n",
       "      <td>4.000000e+08</td>\n",
       "      <td>1</td>\n",
       "      <td>0</td>\n",
       "      <td>18/10/2013</td>\n",
       "    </tr>\n",
       "    <tr>\n",
       "      <th>4</th>\n",
       "      <td>12113</td>\n",
       "      <td>Estado</td>\n",
       "      <td>Sergipe</td>\n",
       "      <td>28</td>\n",
       "      <td>SE</td>\n",
       "      <td>None</td>\n",
       "      <td>Deferido</td>\n",
       "      <td>17944.001606/2009-51</td>\n",
       "      <td>2010-02-01T02:00:00Z</td>\n",
       "      <td>Operação contratual interna</td>\n",
       "      <td>PSI - Programa de Sustentação do Investimento</td>\n",
       "      <td>Instituição Financeira Nacional</td>\n",
       "      <td>Banco do Brasil S/A</td>\n",
       "      <td>Real</td>\n",
       "      <td>4.226400e+06</td>\n",
       "      <td>1</td>\n",
       "      <td>0</td>\n",
       "      <td>05/03/2010</td>\n",
       "    </tr>\n",
       "  </tbody>\n",
       "</table>\n",
       "</div>"
      ],
      "text/plain": [
       "   id_pleito tipo_interessado     interessado  cod_ibge  uf num_pvl  \\\n",
       "0      12070           Estado         Sergipe        28  SE    None   \n",
       "1      10836           Estado       São Paulo        35  SP    None   \n",
       "2      10844           Estado  Santa Catarina        42  SC    None   \n",
       "3      10859           Estado           Bahia        29  BA    None   \n",
       "4      12113           Estado         Sergipe        28  SE    None   \n",
       "\n",
       "                                              status          num_processo  \\\n",
       "0                                          Arquivado  17944.001597/2007-37   \n",
       "1  Encaminhado à PGFN com manifestação técnica fa...  17944.001297/2014-87   \n",
       "2  Encaminhado à PGFN com manifestação técnica fa...  17944.001299/2012-12   \n",
       "3                                           Deferido  17944.001302/2013-71   \n",
       "4                                           Deferido  17944.001606/2009-51   \n",
       "\n",
       "         data_protocolo                                      tipo_operacao  \\\n",
       "0  2009-07-01T03:00:00Z  Operação contratual externa (com garantia da U...   \n",
       "1  2015-11-13T17:12:11Z  Operação contratual interna (com garantia da U...   \n",
       "2  2012-11-26T02:00:00Z  Operação contratual externa (com garantia da U...   \n",
       "3  2013-10-11T03:00:00Z                        Operação contratual interna   \n",
       "4  2010-02-01T02:00:00Z                        Operação contratual interna   \n",
       "\n",
       "                                          finalidade  \\\n",
       "0                        Desenvolvimento sustentável   \n",
       "1                                     Infraestrutura   \n",
       "2  Reestruturação e recomposição do principal de ...   \n",
       "3                 PAC 2 - Mobilidade Grandes Cidades   \n",
       "4      PSI - Programa de Sustentação do Investimento   \n",
       "\n",
       "                            tipo_credor  \\\n",
       "0  Instituição Financeira Internacional   \n",
       "1       Instituição Financeira Nacional   \n",
       "2  Instituição Financeira Internacional   \n",
       "3       Instituição Financeira Nacional   \n",
       "4       Instituição Financeira Nacional   \n",
       "\n",
       "                                    credor          moeda         valor  \\\n",
       "0  Banco Interamericano de Desenvolvimento  Dólar dos EUA  6.720000e+07   \n",
       "1                  Caixa Econômica Federal           Real  6.900000e+08   \n",
       "2            Bank of America Merrill Lynch  Dólar dos EUA  7.264416e+08   \n",
       "3                  Caixa Econômica Federal           Real  4.000000e+08   \n",
       "4                      Banco do Brasil S/A           Real  4.226400e+06   \n",
       "\n",
       "   pvl_assoc_divida  pvl_contradado_credor data_status  \n",
       "0                 0                      0  21/07/2009  \n",
       "1                 1                      0  04/02/2016  \n",
       "2                 1                      0  03/01/2013  \n",
       "3                 1                      0  18/10/2013  \n",
       "4                 1                      0  05/03/2010  "
      ]
     },
     "execution_count": 9,
     "metadata": {},
     "output_type": "execute_result"
    }
   ],
   "source": [
    "# 1) Seu código aqui\n",
    "url = 'http://apidatalake.tesouro.gov.br/ords/sadipem/tt/pvl?url=RJ&tipo_interessado=Estado'\n",
    "response = requests.get(url)\n",
    "json = response.json()\n",
    "df = pd.DataFrame(json['items'])\n",
    "df.head()"
   ]
  },
  {
   "cell_type": "code",
   "execution_count": 16,
   "metadata": {},
   "outputs": [
    {
     "data": {
      "text/plain": [
       "Encaminhado à PGFN com manifestação técnica favorável    446\n",
       "Deferido                                                 441\n",
       "Arquivado a pedido                                        73\n",
       "Name: status, dtype: int64"
      ]
     },
     "execution_count": 16,
     "metadata": {},
     "output_type": "execute_result"
    }
   ],
   "source": [
    "# 2) Seu código aqui\n",
    "df['status'].value_counts()[0:3]"
   ]
  },
  {
   "cell_type": "code",
   "execution_count": 23,
   "metadata": {},
   "outputs": [
    {
     "data": {
      "text/html": [
       "<div>\n",
       "<style scoped>\n",
       "    .dataframe tbody tr th:only-of-type {\n",
       "        vertical-align: middle;\n",
       "    }\n",
       "\n",
       "    .dataframe tbody tr th {\n",
       "        vertical-align: top;\n",
       "    }\n",
       "\n",
       "    .dataframe thead th {\n",
       "        text-align: right;\n",
       "    }\n",
       "</style>\n",
       "<table border=\"1\" class=\"dataframe\">\n",
       "  <thead>\n",
       "    <tr style=\"text-align: right;\">\n",
       "      <th></th>\n",
       "      <th>id_pleito</th>\n",
       "      <th>data_status</th>\n",
       "      <th>ano_status</th>\n",
       "    </tr>\n",
       "  </thead>\n",
       "  <tbody>\n",
       "    <tr>\n",
       "      <th>0</th>\n",
       "      <td>12070</td>\n",
       "      <td>21/07/2009</td>\n",
       "      <td>2009</td>\n",
       "    </tr>\n",
       "    <tr>\n",
       "      <th>1</th>\n",
       "      <td>10836</td>\n",
       "      <td>04/02/2016</td>\n",
       "      <td>2016</td>\n",
       "    </tr>\n",
       "    <tr>\n",
       "      <th>2</th>\n",
       "      <td>10844</td>\n",
       "      <td>03/01/2013</td>\n",
       "      <td>2013</td>\n",
       "    </tr>\n",
       "    <tr>\n",
       "      <th>3</th>\n",
       "      <td>10859</td>\n",
       "      <td>18/10/2013</td>\n",
       "      <td>2013</td>\n",
       "    </tr>\n",
       "    <tr>\n",
       "      <th>4</th>\n",
       "      <td>12113</td>\n",
       "      <td>05/03/2010</td>\n",
       "      <td>2010</td>\n",
       "    </tr>\n",
       "    <tr>\n",
       "      <th>5</th>\n",
       "      <td>10896</td>\n",
       "      <td>17/05/2013</td>\n",
       "      <td>2013</td>\n",
       "    </tr>\n",
       "    <tr>\n",
       "      <th>6</th>\n",
       "      <td>9723</td>\n",
       "      <td>22/10/2009</td>\n",
       "      <td>2009</td>\n",
       "    </tr>\n",
       "    <tr>\n",
       "      <th>7</th>\n",
       "      <td>16571</td>\n",
       "      <td>03/10/2008</td>\n",
       "      <td>2008</td>\n",
       "    </tr>\n",
       "    <tr>\n",
       "      <th>8</th>\n",
       "      <td>10243</td>\n",
       "      <td>19/01/2004</td>\n",
       "      <td>2004</td>\n",
       "    </tr>\n",
       "    <tr>\n",
       "      <th>9</th>\n",
       "      <td>10248</td>\n",
       "      <td>19/01/2004</td>\n",
       "      <td>2004</td>\n",
       "    </tr>\n",
       "  </tbody>\n",
       "</table>\n",
       "</div>"
      ],
      "text/plain": [
       "   id_pleito data_status ano_status\n",
       "0      12070  21/07/2009       2009\n",
       "1      10836  04/02/2016       2016\n",
       "2      10844  03/01/2013       2013\n",
       "3      10859  18/10/2013       2013\n",
       "4      12113  05/03/2010       2010\n",
       "5      10896  17/05/2013       2013\n",
       "6       9723  22/10/2009       2009\n",
       "7      16571  03/10/2008       2008\n",
       "8      10243  19/01/2004       2004\n",
       "9      10248  19/01/2004       2004"
      ]
     },
     "execution_count": 23,
     "metadata": {},
     "output_type": "execute_result"
    }
   ],
   "source": [
    "# 3) Seu código aqui\n",
    "df['ano_status'] = df['data_status'].str.split('/').map(lambda x: x[2])\n",
    "df[['id_pleito', 'data_status', 'ano_status']].head(10)"
   ]
  },
  {
   "cell_type": "code",
   "execution_count": 24,
   "metadata": {},
   "outputs": [
    {
     "data": {
      "text/plain": [
       "2013    122\n",
       "2009    105\n",
       "2010     97\n",
       "2012     90\n",
       "2014     70\n",
       "2008     64\n",
       "2006     57\n",
       "2002     56\n",
       "2011     49\n",
       "2022     43\n",
       "2017     43\n",
       "2018     42\n",
       "2004     40\n",
       "2021     40\n",
       "2005     37\n",
       "2016     34\n",
       "2019     25\n",
       "2020     23\n",
       "2007     20\n",
       "2015     17\n",
       "2023      8\n",
       "2003      6\n",
       "Name: ano_status, dtype: int64"
      ]
     },
     "execution_count": 24,
     "metadata": {},
     "output_type": "execute_result"
    }
   ],
   "source": [
    "# 4) Seu código aqui\n",
    "df['ano_status'].value_counts()"
   ]
  },
  {
   "cell_type": "markdown",
   "metadata": {},
   "source": [
    "####  2) Melhorando a interação com o API\n",
    "Observe dois URLs de consultas diferentes, por exemplo o URL utilizado em aula, e o URL feito no exercício anterior. Compare-os e observe as diferenças.\n",
    "\n",
    "1. Faça uma função em Python que recebe como argumento o UF da consulta e o tipo de interessado (```'Estado'```ou ```Município```), e que devolve os dados da consulta no formato *DataFrame*.\n",
    "2. Quantas solicitações para o Estado podem ser consultadas para Minas Gerais com *status* em 'Arquivado por decurso de prazo' estão registradas?\n",
    "3. Qual é o município da Bahia com mais solicitações deferidas?\n",
    "4. Salve um arquivo .csv com os dados de solicitações da Bahia, com interessado = 'Estado'"
   ]
  },
  {
   "cell_type": "code",
   "execution_count": 26,
   "metadata": {},
   "outputs": [],
   "source": [
    "#1) Seu código aqui\n",
    "def ler_dados_api(uf: str, interessado: str) -> pd.DataFrame:\n",
    "    url = f'https://apidatalake.tesouro.gov.br/ords/sadipem/tt/pvl?url={uf}&tipo_interessado={interessado}'\n",
    "    response = requests.get(url)\n",
    "    json = response.json()\n",
    "    return pd.DataFrame(json['items'])"
   ]
  },
  {
   "cell_type": "code",
   "execution_count": 29,
   "metadata": {},
   "outputs": [
    {
     "data": {
      "text/plain": [
       "32"
      ]
     },
     "execution_count": 29,
     "metadata": {},
     "output_type": "execute_result"
    }
   ],
   "source": [
    "# 2) Seu código aqui\n",
    "df_minas = ler_dados_api('MG', 'Estado')\n",
    "df_minas['status'].value_counts()['Arquivado por decurso de prazo']"
   ]
  },
  {
   "cell_type": "code",
   "execution_count": 41,
   "metadata": {},
   "outputs": [
    {
     "data": {
      "text/plain": [
       "Luís Eduardo Magalhães    4\n",
       "Name: interessado, dtype: int64"
      ]
     },
     "execution_count": 41,
     "metadata": {},
     "output_type": "execute_result"
    }
   ],
   "source": [
    "# 3) Seu código aqui\n",
    "df_bahia = ler_dados_api('BA', 'Município')\n",
    "deferido = (df_bahia['uf'] == 'BA') & (df_bahia['status'] == 'Deferido')\n",
    "df_bahia[deferido]['interessado'].value_counts()[0:1]"
   ]
  },
  {
   "cell_type": "code",
   "execution_count": 44,
   "metadata": {},
   "outputs": [],
   "source": [
    "# 4) Seu código aqui\n",
    "nome_arquivo = 'solicitacoes_estado_bahia.csv'\n",
    "df_estado_bahia = ler_dados_api('BA', 'Estado')\n",
    "df_estado_bahia.to_csv(nome_arquivo, index = False)"
   ]
  },
  {
   "cell_type": "code",
   "execution_count": null,
   "metadata": {},
   "outputs": [],
   "source": []
  }
 ],
 "metadata": {
  "kernelspec": {
   "display_name": "Python 3 (ipykernel)",
   "language": "python",
   "name": "python3"
  },
  "language_info": {
   "codemirror_mode": {
    "name": "ipython",
    "version": 3
   },
   "file_extension": ".py",
   "mimetype": "text/x-python",
   "name": "python",
   "nbconvert_exporter": "python",
   "pygments_lexer": "ipython3",
   "version": "3.9.16"
  }
 },
 "nbformat": 4,
 "nbformat_minor": 4
}
