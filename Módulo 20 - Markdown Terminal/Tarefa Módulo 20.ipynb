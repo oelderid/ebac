{
 "cells": [
  {
   "cell_type": "markdown",
   "id": "f29c8e77",
   "metadata": {},
   "source": [
    "<font color=\"#2c4fb0\"><h1>Fórmula de Bhaskara</h1></font>"
   ]
  },
  {
   "cell_type": "markdown",
   "id": "2d9218ae",
   "metadata": {},
   "source": [
    "A solução para uma função de segundo grau depende das suas raízes (valores de x). Como já vimos, os coeficientes\n",
    "precisam ser números reais e o angular diferente de zero. Sendo assim, temos a seguinte fórmula de Bhaskara:"
   ]
  },
  {
   "cell_type": "markdown",
   "id": "0abf2e11",
   "metadata": {},
   "source": [
    "$$\\Large\n",
    "\\text{x}=\\frac{-b\\hspace{1mm}\\pm\\hspace{1mm}\\sqrt{b^2 - 4.a.c}}{2.a}\n",
    "$$"
   ]
  },
  {
   "cell_type": "markdown",
   "id": "cda04d42",
   "metadata": {},
   "source": [
    "<div style=\"text-align: center\"><i>Fórmula de Bhaskara.<i></div>"
   ]
  },
  {
   "cell_type": "markdown",
   "id": "edaf949f",
   "metadata": {},
   "source": [
    "Para melhor compreensão o seu cálculo é dividido em duas partes: discriminante da equação e operações para determinar as raízes."
   ]
  },
  {
   "cell_type": "markdown",
   "id": "01e4b735",
   "metadata": {},
   "source": [
    "### Discriminante"
   ]
  },
  {
   "cell_type": "markdown",
   "id": "b1805123",
   "metadata": {},
   "source": [
    "A figura dentro da raiz na fórmula de Bhaskara é nomeada de discriminante. Seu símbolo é a letra grega delta e apresenta a determinada fórmula:"
   ]
  },
  {
   "cell_type": "markdown",
   "id": "2e6f34fd",
   "metadata": {},
   "source": [
    "$$\\Large\n",
    "\\Delta = \\text{b}^2\\text{ - 4.a.c}\n",
    "$$"
   ]
  },
  {
   "cell_type": "markdown",
   "id": "d479dd20",
   "metadata": {},
   "source": [
    "<div style=\"text-align: center\"><i>Fórmula da discriminante.<i></div>"
   ]
  },
  {
   "cell_type": "markdown",
   "id": "6e5efc47",
   "metadata": {},
   "source": [
    "- Se o delta for maior que zero, a equação terá dois valores reais e distintos.\n",
    "- Se o delta for igual a zero, a equação terá somente um valor real ou dois resultados iguais.\n",
    "- Se o delta for menor que zero, a equação não possuirá valores reais."
   ]
  },
  {
   "cell_type": "code",
   "execution_count": null,
   "id": "d043b0a6",
   "metadata": {},
   "outputs": [],
   "source": []
  }
 ],
 "metadata": {
  "kernelspec": {
   "display_name": "Python 3 (ipykernel)",
   "language": "python",
   "name": "python3"
  },
  "language_info": {
   "codemirror_mode": {
    "name": "ipython",
    "version": 3
   },
   "file_extension": ".py",
   "mimetype": "text/x-python",
   "name": "python",
   "nbconvert_exporter": "python",
   "pygments_lexer": "ipython3",
   "version": "3.9.16"
  }
 },
 "nbformat": 4,
 "nbformat_minor": 5
}
