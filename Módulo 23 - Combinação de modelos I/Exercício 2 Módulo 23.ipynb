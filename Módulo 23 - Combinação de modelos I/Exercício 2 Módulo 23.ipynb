{
 "cells": [
  {
   "cell_type": "code",
   "execution_count": 1,
   "id": "8db2db98",
   "metadata": {},
   "outputs": [],
   "source": [
    "import pandas as pd\n",
    "from math import sqrt, ceil\n",
    "from sklearn.tree import DecisionTreeClassifier \n",
    "from sklearn.ensemble import BaggingClassifier "
   ]
  },
  {
   "cell_type": "markdown",
   "id": "b4564ad2",
   "metadata": {},
   "source": [
    "## 1. Monte um passo a passo para o algoritmo Random Forest"
   ]
  },
  {
   "cell_type": "markdown",
   "id": "f32de27f",
   "metadata": {},
   "source": [
    "**1. Amostragem de Dados:**\n",
    "- Para cada árvore de decisão no conjunto, é feita uma amostragem aleatória dos dados de treinamento.\n",
    "- Essa amostragem é feita com substituição, o que significa que cada árvore pode ter exemplos repetidos ou não ter alguns exemplos.\n",
    "\n",
    "**2. Construção das Árvores:**\n",
    "\n",
    "- Para cada árvore de decisão, é feita a construção da árvore usando a amostra de dados correspondente.\n",
    "- Durante a construção da árvore, em cada nó, o algoritmo seleciona um subconjunto aleatório de características (variáveis) para determinar a melhor divisão.\n",
    "- Essa aleatoriedade na seleção de características ajuda a reduzir a correlação entre as árvores e torna o modelo mais robusto.\n",
    "\n",
    "**3. Votação por Maioria:**\n",
    "\n",
    "- Após a construção de todas as árvores, o Random Forest faz previsões combinando as previsões de cada árvore.\n",
    "- No caso de classificação, a previsão final é determinada por votação por maioria. Cada árvore tem um voto igual e a classe com mais votos é selecionada como a previsão final.\n",
    "- No caso de regressão, a previsão final é a média das previsões de todas as árvores."
   ]
  },
  {
   "cell_type": "markdown",
   "id": "fc75b1a3",
   "metadata": {},
   "source": [
    "## 2. Explique com suas palavras o Random Forest"
   ]
  },
  {
   "cell_type": "markdown",
   "id": "c0ed6132",
   "metadata": {},
   "source": [
    "Random Forest é um algoritmo que utiliza um conjunto de árvores de decisão como estimadores base. No Random Forest, cada árvore de decisão é construída de forma aleatória, tornando o algoritmo mais robusto e geralmente mais preciso porque a combinação de várias árvores de decisão independentes e a aleatoriedade na seleção de características ajudam a reduzir a variância do modelo e evitar overfitting."
   ]
  },
  {
   "cell_type": "markdown",
   "id": "a75b0342",
   "metadata": {},
   "source": [
    "## 3. Qual a diferença entre Bagging e Random Forest?"
   ]
  },
  {
   "cell_type": "markdown",
   "id": "f4534bd6",
   "metadata": {},
   "source": [
    "A principal diferença entre eles seria a de que o Bagging cria um conjunto de estimadores ou classificadores base usando amostras de treinamento aleatórias com substituição. Os estimadores ou classificadores nesse caso poderiam ser qualquer algoritmo.\n",
    "\n",
    "Já o Random Forest utiliza árvores de decisão como estimadores base. Ele cria um conjunto de árvores de decisão, onde cada árvore é treinada de forma independente em uma amostra de treinamento aleatória com substituição."
   ]
  },
  {
   "cell_type": "markdown",
   "id": "84e2605a",
   "metadata": {},
   "source": [
    "## 4. Implementação em Python do Bootstrap, Feature Selection e RandomForest"
   ]
  },
  {
   "cell_type": "markdown",
   "id": "15d1fe61",
   "metadata": {},
   "source": [
    "Será utilizada a base de dados 'credit_scoring' disponibilizada no material da aula. Como o intuito é exemplificar a implementação do algoritmo, não serão utilizadas todas as variáveis disponíveis nessa base de dados. "
   ]
  },
  {
   "cell_type": "code",
   "execution_count": 2,
   "id": "df8563d5",
   "metadata": {},
   "outputs": [],
   "source": [
    "df = (\n",
    "    pd.read_csv('credit_scoring.csv')\n",
    "    .dropna()\n",
    "    .drop(columns=['data_ref', 'id_cliente', 'tipo_renda', 'educacao'])\n",
    "    .drop(columns=['tipo_residencia', 'renda', 'estado_civil'])\n",
    "    .astype({'tempo_emprego': 'int32', 'qt_pessoas_residencia': 'int32'})\n",
    "    .replace({'posse_de_veiculo': {True: 1, False: 0}})\n",
    "    .replace({'posse_de_imovel': {True: 1, False: 0}})\n",
    "    .replace({'sexo': {'F': 1, 'M': 0}})\n",
    ")"
   ]
  },
  {
   "cell_type": "markdown",
   "id": "00d3a308",
   "metadata": {},
   "source": [
    "Abaixo temos um exemplo da base de dados que será utilizada."
   ]
  },
  {
   "cell_type": "code",
   "execution_count": 201,
   "id": "8047c121",
   "metadata": {},
   "outputs": [
    {
     "data": {
      "text/html": [
       "<div>\n",
       "<style scoped>\n",
       "    .dataframe tbody tr th:only-of-type {\n",
       "        vertical-align: middle;\n",
       "    }\n",
       "\n",
       "    .dataframe tbody tr th {\n",
       "        vertical-align: top;\n",
       "    }\n",
       "\n",
       "    .dataframe thead th {\n",
       "        text-align: right;\n",
       "    }\n",
       "</style>\n",
       "<table border=\"1\" class=\"dataframe\">\n",
       "  <thead>\n",
       "    <tr style=\"text-align: right;\">\n",
       "      <th></th>\n",
       "      <th>sexo</th>\n",
       "      <th>posse_de_veiculo</th>\n",
       "      <th>posse_de_imovel</th>\n",
       "      <th>qtd_filhos</th>\n",
       "      <th>idade</th>\n",
       "      <th>tempo_emprego</th>\n",
       "      <th>qt_pessoas_residencia</th>\n",
       "      <th>mau</th>\n",
       "    </tr>\n",
       "  </thead>\n",
       "  <tbody>\n",
       "    <tr>\n",
       "      <th>0</th>\n",
       "      <td>1</td>\n",
       "      <td>1</td>\n",
       "      <td>1</td>\n",
       "      <td>0</td>\n",
       "      <td>49</td>\n",
       "      <td>8</td>\n",
       "      <td>2</td>\n",
       "      <td>0</td>\n",
       "    </tr>\n",
       "    <tr>\n",
       "      <th>1</th>\n",
       "      <td>0</td>\n",
       "      <td>1</td>\n",
       "      <td>0</td>\n",
       "      <td>0</td>\n",
       "      <td>60</td>\n",
       "      <td>6</td>\n",
       "      <td>2</td>\n",
       "      <td>0</td>\n",
       "    </tr>\n",
       "    <tr>\n",
       "      <th>2</th>\n",
       "      <td>1</td>\n",
       "      <td>1</td>\n",
       "      <td>0</td>\n",
       "      <td>0</td>\n",
       "      <td>28</td>\n",
       "      <td>0</td>\n",
       "      <td>2</td>\n",
       "      <td>0</td>\n",
       "    </tr>\n",
       "    <tr>\n",
       "      <th>3</th>\n",
       "      <td>1</td>\n",
       "      <td>0</td>\n",
       "      <td>1</td>\n",
       "      <td>0</td>\n",
       "      <td>60</td>\n",
       "      <td>1</td>\n",
       "      <td>2</td>\n",
       "      <td>0</td>\n",
       "    </tr>\n",
       "    <tr>\n",
       "      <th>4</th>\n",
       "      <td>1</td>\n",
       "      <td>0</td>\n",
       "      <td>0</td>\n",
       "      <td>0</td>\n",
       "      <td>47</td>\n",
       "      <td>8</td>\n",
       "      <td>2</td>\n",
       "      <td>0</td>\n",
       "    </tr>\n",
       "  </tbody>\n",
       "</table>\n",
       "</div>"
      ],
      "text/plain": [
       "   sexo  posse_de_veiculo  posse_de_imovel  qtd_filhos  idade  tempo_emprego  \\\n",
       "0     1                 1                1           0     49              8   \n",
       "1     0                 1                0           0     60              6   \n",
       "2     1                 1                0           0     28              0   \n",
       "3     1                 0                1           0     60              1   \n",
       "4     1                 0                0           0     47              8   \n",
       "\n",
       "   qt_pessoas_residencia  mau  \n",
       "0                      2    0  \n",
       "1                      2    0  \n",
       "2                      2    0  \n",
       "3                      2    0  \n",
       "4                      2    0  "
      ]
     },
     "execution_count": 201,
     "metadata": {},
     "output_type": "execute_result"
    }
   ],
   "source": [
    "df.head()"
   ]
  },
  {
   "cell_type": "markdown",
   "id": "775a9e76",
   "metadata": {},
   "source": [
    "**Bootstrap e Feature Selection** \\\n",
    "A função abaixo será criada para construir um novo DataFrame (baseado no original) usando a função sample do pandas para implementar o Bootstrap e Feature Selection de forma randômica."
   ]
  },
  {
   "cell_type": "code",
   "execution_count": 103,
   "id": "c3d84b2f",
   "metadata": {},
   "outputs": [],
   "source": [
    "def bootstrap_fs(data: pd.DataFrame) -> pd.DataFrame:\n",
    "    # a amostra será criada com 80% da quantidade total de linhas do DataFrame original\n",
    "    linhas = int(data.shape[0] * .80)\n",
    "    \n",
    "    # valor de p, quantidade total de colunas\n",
    "    p = data.shape[1]\n",
    "    \n",
    "    # valor de m, raiz quadrada de p\n",
    "    m = ceil(sqrt(p))\n",
    "    \n",
    "    # cria um DataFrame com bootstrap e substituições\n",
    "    dt = data.sample(n = linhas, replace=True)\n",
    "    \n",
    "    # guarda a variável resposta\n",
    "    y = dt['mau']\n",
    "    \n",
    "    # remove da amostra a variável resposta\n",
    "    dt.drop(columns=['mau'], inplace=True)\n",
    "    \n",
    "    # aplica o Feature Selection\n",
    "    dt = dt.sample(n = m, axis=1)\n",
    "    \n",
    "    # como o Feature Selection é randômico, \n",
    "    # ordena alfabeticamente as colunas da amostra para manter um padrão\n",
    "    dt = dt.reindex(sorted(dt.columns), axis=1)\n",
    "    \n",
    "    # devolve a variável resposta para a amostra\n",
    "    dt['mau'] = y\n",
    "    \n",
    "    return dt"
   ]
  },
  {
   "cell_type": "markdown",
   "id": "bd535ed5",
   "metadata": {},
   "source": [
    "Como as colunas das amostras podem variar, devido ao Feature Selection, a função abaixo cria um DataFrame com os dados que serão utilizados para fazer a previsão apenas com as variáveis que estão na amostra. Funciona como uma interseção entre os dados para previsão e as variáveis disponíveis na amostra"
   ]
  },
  {
   "cell_type": "code",
   "execution_count": 5,
   "id": "47801a1e",
   "metadata": {},
   "outputs": [],
   "source": [
    "def criar_dataframe_previsao(amostra: pd.DataFrame, dados: dict) -> pd.DataFrame:\n",
    "    # dados para previsão referente as variáveis disponíveis na amostra\n",
    "    valores = {}\n",
    "    \n",
    "    # percorre os nomes das variáveis referente a interseção das colunas da amostra \n",
    "    # e as chaves dos dados para previsão\n",
    "    for nome_variavel in set(amostra.columns).intersection(dados.keys()):\n",
    "        valores[nome_variavel] = [dados[nome_variavel]]\n",
    "        \n",
    "    dt = pd.DataFrame(valores)\n",
    "    \n",
    "    # ordena alfabeticamente as colunas da amostra para manter um padrão\n",
    "    dt = dt.reindex(sorted(dt.columns), axis=1)\n",
    "    \n",
    "    return dt"
   ]
  },
  {
   "cell_type": "markdown",
   "id": "2e3c4b80",
   "metadata": {},
   "source": [
    "A função abaixo recebe por parâmetro uma amostra e os dados para previsão. Essa função será aplicada para cada amostra e iremos armazenar a previsão em cada uma delas para realizarmos a agregação posteriormente."
   ]
  },
  {
   "cell_type": "code",
   "execution_count": 114,
   "id": "f78b8e09",
   "metadata": {},
   "outputs": [],
   "source": [
    "def realizar_previsao(amostra: pd.DataFrame, dados: dict):\n",
    "    X = amostra.drop(columns=['mau'])\n",
    "    y = amostra['mau']\n",
    "    \n",
    "    dtree = DecisionTreeClassifier(random_state = 1)\n",
    "    dtree.fit(X, y)\n",
    "    \n",
    "    dados_para_previsao = criar_dataframe_previsao(amostra, dados)\n",
    "    \n",
    "    return dtree.predict(dados_para_previsao)[0]"
   ]
  },
  {
   "cell_type": "markdown",
   "id": "f5d342d8",
   "metadata": {},
   "source": [
    "Abaixo criamos uma lista com 10 amostras criadas com Bootstrap e Feature Selection"
   ]
  },
  {
   "cell_type": "code",
   "execution_count": 123,
   "id": "051e8403",
   "metadata": {},
   "outputs": [],
   "source": [
    "amostras = [bootstrap_fs(df) for _ in range(0, 10)]"
   ]
  },
  {
   "cell_type": "markdown",
   "id": "437a05ac",
   "metadata": {},
   "source": [
    "Abaixo é definido um dicionário com os dados que serão usados para a previsão"
   ]
  },
  {
   "cell_type": "code",
   "execution_count": 181,
   "id": "bdc1a1fc",
   "metadata": {},
   "outputs": [],
   "source": [
    "dados = {\n",
    "    'sexo': 0, # homen\n",
    "    'posse_de_veiculo': 1,\n",
    "    'posse_de_imovel': 0,\n",
    "    'qtd_filhos': 4,\n",
    "    'idade': 42,\n",
    "    'tempo_emprego': 1, # 1 ano\n",
    "    'qt_pessoas_residencia': 6\n",
    "}"
   ]
  },
  {
   "cell_type": "markdown",
   "id": "d456fd1e",
   "metadata": {},
   "source": [
    "Abaixo criamos um DataFrame com o resultado da previsão de cada amostra"
   ]
  },
  {
   "cell_type": "code",
   "execution_count": 186,
   "id": "ea026f04",
   "metadata": {},
   "outputs": [],
   "source": [
    "previsoes = pd.DataFrame({'mau': [\n",
    "    realizar_previsao(amostra, dados) for amostra in amostras\n",
    "]})"
   ]
  },
  {
   "cell_type": "code",
   "execution_count": 187,
   "id": "fc1e79aa",
   "metadata": {},
   "outputs": [
    {
     "data": {
      "text/html": [
       "<div>\n",
       "<style scoped>\n",
       "    .dataframe tbody tr th:only-of-type {\n",
       "        vertical-align: middle;\n",
       "    }\n",
       "\n",
       "    .dataframe tbody tr th {\n",
       "        vertical-align: top;\n",
       "    }\n",
       "\n",
       "    .dataframe thead th {\n",
       "        text-align: right;\n",
       "    }\n",
       "</style>\n",
       "<table border=\"1\" class=\"dataframe\">\n",
       "  <thead>\n",
       "    <tr style=\"text-align: right;\">\n",
       "      <th></th>\n",
       "      <th>mau</th>\n",
       "    </tr>\n",
       "  </thead>\n",
       "  <tbody>\n",
       "    <tr>\n",
       "      <th>0</th>\n",
       "      <td>0</td>\n",
       "    </tr>\n",
       "    <tr>\n",
       "      <th>1</th>\n",
       "      <td>1</td>\n",
       "    </tr>\n",
       "    <tr>\n",
       "      <th>2</th>\n",
       "      <td>0</td>\n",
       "    </tr>\n",
       "    <tr>\n",
       "      <th>3</th>\n",
       "      <td>0</td>\n",
       "    </tr>\n",
       "    <tr>\n",
       "      <th>4</th>\n",
       "      <td>0</td>\n",
       "    </tr>\n",
       "    <tr>\n",
       "      <th>5</th>\n",
       "      <td>0</td>\n",
       "    </tr>\n",
       "    <tr>\n",
       "      <th>6</th>\n",
       "      <td>0</td>\n",
       "    </tr>\n",
       "    <tr>\n",
       "      <th>7</th>\n",
       "      <td>1</td>\n",
       "    </tr>\n",
       "    <tr>\n",
       "      <th>8</th>\n",
       "      <td>0</td>\n",
       "    </tr>\n",
       "    <tr>\n",
       "      <th>9</th>\n",
       "      <td>0</td>\n",
       "    </tr>\n",
       "  </tbody>\n",
       "</table>\n",
       "</div>"
      ],
      "text/plain": [
       "   mau\n",
       "0    0\n",
       "1    1\n",
       "2    0\n",
       "3    0\n",
       "4    0\n",
       "5    0\n",
       "6    0\n",
       "7    1\n",
       "8    0\n",
       "9    0"
      ]
     },
     "execution_count": 187,
     "metadata": {},
     "output_type": "execute_result"
    }
   ],
   "source": [
    "previsoes"
   ]
  },
  {
   "cell_type": "code",
   "execution_count": 202,
   "id": "cf279f63",
   "metadata": {},
   "outputs": [
    {
     "data": {
      "text/html": [
       "<div>\n",
       "<style scoped>\n",
       "    .dataframe tbody tr th:only-of-type {\n",
       "        vertical-align: middle;\n",
       "    }\n",
       "\n",
       "    .dataframe tbody tr th {\n",
       "        vertical-align: top;\n",
       "    }\n",
       "\n",
       "    .dataframe thead th {\n",
       "        text-align: right;\n",
       "    }\n",
       "</style>\n",
       "<table border=\"1\" class=\"dataframe\">\n",
       "  <thead>\n",
       "    <tr style=\"text-align: right;\">\n",
       "      <th></th>\n",
       "      <th>frequencia</th>\n",
       "    </tr>\n",
       "    <tr>\n",
       "      <th>mau</th>\n",
       "      <th></th>\n",
       "    </tr>\n",
       "  </thead>\n",
       "  <tbody>\n",
       "    <tr>\n",
       "      <th>0</th>\n",
       "      <td>8</td>\n",
       "    </tr>\n",
       "    <tr>\n",
       "      <th>1</th>\n",
       "      <td>2</td>\n",
       "    </tr>\n",
       "  </tbody>\n",
       "</table>\n",
       "</div>"
      ],
      "text/plain": [
       "     frequencia\n",
       "mau            \n",
       "0             8\n",
       "1             2"
      ]
     },
     "execution_count": 202,
     "metadata": {},
     "output_type": "execute_result"
    }
   ],
   "source": [
    "# Agregação dos resultados dos modelos\n",
    "freq = pd.DataFrame(previsoes.value_counts(), columns=['frequencia'])\n",
    "freq"
   ]
  },
  {
   "cell_type": "markdown",
   "id": "e869b7e7",
   "metadata": {},
   "source": [
    "Nesse exemplo de 10 amostras criadas usadno Bootstrap e Feature Selection, usando o modelo DecisionTreeClassifier, **8** modelos apontaram que os dados usados para previsão se referem a um indivíduo considerado bom pagador e **2** modelos um mau pagador."
   ]
  },
  {
   "cell_type": "markdown",
   "id": "8e410eaa",
   "metadata": {},
   "source": [
    "### BaggingClassifier do Scikit-Learn"
   ]
  },
  {
   "cell_type": "markdown",
   "id": "26b8c52a",
   "metadata": {},
   "source": [
    "O processo demonstrado anteriormente serviu apenas para exemplificar os passos para construção do RandomForest com Bagging, Bootstrap e Feature Selection. \n",
    "\n",
    "Na biblioteca Scikit-Learn existe um algorítimo pronto chamado BaggingClassifier. Com ele podemos rodar todos esses passos de uma só vez implementando apenas construção de um só modelo.\n",
    "\n",
    "Como o BaggingClassifier podemos usar qualquer estimador, sendo que por padrão ele implementa o DecisionTreeClassifier.\n",
    "\n",
    "Também podemos definir a quantidade e estimadores que desejamos utilizar, a quantidade de amostras usando ou não bootstrap com substituições e a quantidade de variáveis (features).\n",
    "\n",
    "Veja um exemplo da implementação do BaggingClassifier abaixo:"
   ]
  },
  {
   "cell_type": "code",
   "execution_count": 10,
   "id": "166db56b",
   "metadata": {},
   "outputs": [],
   "source": [
    "# separando as variáveis preditivas e de resposta\n",
    "X = df.drop(columns=['mau'])\n",
    "X = X.reindex(sorted(X.columns), axis=1)\n",
    "\n",
    "y = df['mau']"
   ]
  },
  {
   "cell_type": "code",
   "execution_count": 16,
   "id": "cbacc116",
   "metadata": {},
   "outputs": [],
   "source": [
    "# criando um DataFrame com os dados que serão usados para previsão\n",
    "dados_para_previsao = criar_dataframe_previsao(df, {\n",
    "    'sexo': 1, # mulher\n",
    "    'posse_de_veiculo': 1,\n",
    "    'posse_de_imovel': 1,\n",
    "    'qtd_filhos': 1,\n",
    "    'idade': 29,\n",
    "    'tempo_emprego': 4,\n",
    "    'qt_pessoas_residencia': 3\n",
    "})"
   ]
  },
  {
   "cell_type": "code",
   "execution_count": 17,
   "id": "86c01ee2",
   "metadata": {},
   "outputs": [
    {
     "name": "stdout",
     "output_type": "stream",
     "text": [
      "É mau pagador? (0 = Não 1 = Sim): 0\n"
     ]
    }
   ],
   "source": [
    "# construindo o BaggingClassifier\n",
    "bag = BaggingClassifier(\n",
    "    random_state = 1, \n",
    "    \n",
    "    # Definindo o número de estimadores. Por padrão usa o DecisionTreeClassifier\n",
    "    n_estimators = 10, \n",
    "    \n",
    "    # quantidade de amostras para treinar cada estimador\n",
    "    max_samples = 10, \n",
    "    \n",
    "    # quantidade de variáveis para treinar cada estimador\n",
    "    max_features = 3,\n",
    ")\n",
    "\n",
    "# treina o modelo\n",
    "bag.fit(X, y)\n",
    "\n",
    "# requisita a previsão\n",
    "resultado = bag.predict(dados_para_previsao)[0]\n",
    "\n",
    "print(f'É mau pagador? (0 = Não 1 = Sim): {resultado}')"
   ]
  },
  {
   "cell_type": "code",
   "execution_count": null,
   "id": "b6f71245",
   "metadata": {},
   "outputs": [],
   "source": []
  }
 ],
 "metadata": {
  "kernelspec": {
   "display_name": "Python 3 (ipykernel)",
   "language": "python",
   "name": "python3"
  },
  "language_info": {
   "codemirror_mode": {
    "name": "ipython",
    "version": 3
   },
   "file_extension": ".py",
   "mimetype": "text/x-python",
   "name": "python",
   "nbconvert_exporter": "python",
   "pygments_lexer": "ipython3",
   "version": "3.9.16"
  }
 },
 "nbformat": 4,
 "nbformat_minor": 5
}
