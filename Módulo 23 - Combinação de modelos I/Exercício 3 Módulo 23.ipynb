{
 "cells": [
  {
   "cell_type": "markdown",
   "id": "0f8b81df",
   "metadata": {},
   "source": [
    "## Quais são os hyperparâmetros do Random Forest e para que servem?"
   ]
  },
  {
   "cell_type": "markdown",
   "id": "c1e2c2a6",
   "metadata": {},
   "source": [
    "Segue abaixo alguns dos principais hiperparâmetros do Random Forest e sua função:\n",
    "\n",
    "**1. n_estimators:**\n",
    "   > Define o número de árvores que serão usadas. Um número maior de árvores geralmente leva a um modelo mais robusto, porém com maior tempo de treinamento. Um valor razoável para n_estimators é geralmente entre 100 e 1000.\n",
    "\n",
    "**2. criterion:**\n",
    "   > Define a função de avaliação de qualidade da divisão em cada nó da árvore. Pode ser \"gini\" para o índice de Gini ou \"entropy\" para a entropia.\n",
    "\n",
    "**3. max_depth:**\n",
    "   > Define a profundidade máxima de cada árvore de decisão. Controla a complexidade do modelo e evita overfitting.\n",
    "\n",
    "**4. min_samples_split:**\n",
    "   > Define o número mínimo de amostras necessárias para dividir um nó interno da árvore. Ajuda a controlar a complexidade da árvore e evita divisões excessivas que podem levar a overfitting.\n",
    "\n",
    "**5. min_samples_leaf:**\n",
    "   > Define o número mínimo de amostras necessárias para ser um nó folha. Controla a quantidade mínima de amostras necessárias em cada folha da árvore.\n",
    "\n",
    "**6. max_features:**\n",
    "   > Define o número máximo debvariáveis a serem consideradas ao procurar a melhor divisão em cada nó. Reduz a correlação entre as árvores e aumenta a aleatoriedade.\n",
    "   \n",
    "**7. max_leaf_nodes:**\n",
    "   > Define o número máximo de nós folha permitidos em cada árvore.\n",
    "\n",
    "**8. bootstrap:**\n",
    "   > Define se a amostragem dos dados é realizada com substituição (True) ou sem substituição (False). A amostragem com substituição permite que as mesmas amostras apareçam em várias árvores, aumentando a aleatoriedade.\n",
    "   \n",
    "**9. ccp_alpha:**\n",
    "   > O ccp_alpha é um valor que controla a quantidade de poda aplicada às árvores. Quanto maior o valor de ccp_alpha, maior será a poda aplicada. Um valor de ccp_alpha igual a zero significa que nenhuma poda será realizada.\n",
    "   \n",
    "**10. max_samples:**\n",
    "   > Quando o parâmetro bootstrap for TRUE, indica o número máximo de amostras de X que será usadas para treinar cada estimador.\n",
    "\n",
    "**11. oob_score:**\n",
    "   > O parâmetro oob_score permite que o modelo utilize amostras \"out-of-bag\" para avaliar o desempenho durante o treinamento. Uma amostra out-of-bag é um dados que ficou de fora da amostra principal para treinar o modelo.\n",
    "   "
   ]
  }
 ],
 "metadata": {
  "kernelspec": {
   "display_name": "Python 3 (ipykernel)",
   "language": "python",
   "name": "python3"
  },
  "language_info": {
   "codemirror_mode": {
    "name": "ipython",
    "version": 3
   },
   "file_extension": ".py",
   "mimetype": "text/x-python",
   "name": "python",
   "nbconvert_exporter": "python",
   "pygments_lexer": "ipython3",
   "version": "3.9.16"
  }
 },
 "nbformat": 4,
 "nbformat_minor": 5
}
