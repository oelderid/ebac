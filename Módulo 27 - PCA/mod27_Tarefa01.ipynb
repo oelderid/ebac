{
 "cells": [
  {
   "cell_type": "markdown",
   "metadata": {},
   "source": [
    "# PCA - Tarefa 01: *HAR* com PCA\n",
    "\n",
    "Vamos trabalhar com a base da demonstração feita em aula, mas vamos explorar um pouco melhor como é o desempenho da árvore variando o número de componentes principais."
   ]
  },
  {
   "cell_type": "code",
   "execution_count": 1,
   "metadata": {},
   "outputs": [],
   "source": [
    "import pandas as pd\n",
    "\n",
    "from sklearn.tree import DecisionTreeClassifier\n",
    "from sklearn.decomposition import PCA"
   ]
  },
  {
   "cell_type": "code",
   "execution_count": 35,
   "metadata": {},
   "outputs": [],
   "source": [
    "filename_features = \"dados/features.txt\"\n",
    "filename_labels = \"dados/activity_labels.txt\"\n",
    "\n",
    "filename_subtrain = \"dados/subject_train.txt\"\n",
    "filename_xtrain = \"dados/X_train.txt\"\n",
    "filename_ytrain = \"dados/y_train.txt\"\n",
    "\n",
    "filename_subtest = \"dados/subject_test.txt\"\n",
    "ffilename_xtest = \"dados/X_test.txt\"\n",
    "filename_ytest = \"dados/y_test.txt\"\n",
    "\n",
    "features = pd.read_csv(filename_features, header=None, names=['nome_var'], sep=\"#\")\n",
    "features = features.squeeze(1)\n",
    "labels = pd.read_csv(filename_labels, delim_whitespace=True, header=None, names=['cod_label', 'label'])\n",
    "\n",
    "subject_train = pd.read_csv(filename_subtrain, header=None, names=['subject_id'])\n",
    "subject_train = subject_train.squeeze(1)\n",
    "X_train = pd.read_csv(filename_xtrain, delim_whitespace=True, header=None, names=features.tolist())\n",
    "y_train = pd.read_csv(filename_ytrain, header=None, names=['cod_label'])\n",
    "\n",
    "subject_test = pd.read_csv(filename_subtest, header=None, names=['subject_id'])\n",
    "subject_test = subject_test.squeeze(1)\n",
    "X_test = pd.read_csv(ffilename_xtest, delim_whitespace=True, header=None, names=features.tolist())\n",
    "y_test = pd.read_csv(filename_ytest, header=None, names=['cod_label'])"
   ]
  },
  {
   "cell_type": "markdown",
   "metadata": {},
   "source": [
    "## Árvore de decisão\n",
    "\n",
    "Rode uma árvore de decisão com todas as variáveis, utilizando o ```ccp_alpha=0.001```. Avalie a acurácia nas bases de treinamento e teste. Avalie o tempo de processamento."
   ]
  },
  {
   "cell_type": "code",
   "execution_count": 36,
   "metadata": {},
   "outputs": [
    {
     "name": "stdout",
     "output_type": "stream",
     "text": [
      "CPU times: user 5.67 s, sys: 0 ns, total: 5.67 s\n",
      "Wall time: 5.67 s\n"
     ]
    }
   ],
   "source": [
    "%%time\n",
    "\n",
    "clf = DecisionTreeClassifier(ccp_alpha=0.001, random_state=1234)\n",
    "clf.fit(X_train, y_train)\n",
    "\n",
    "train_score = clf.score(X_train, y_train)\n",
    "test_score  = clf.score(X_test, y_test)"
   ]
  },
  {
   "cell_type": "code",
   "execution_count": 37,
   "metadata": {},
   "outputs": [
    {
     "name": "stdout",
     "output_type": "stream",
     "text": [
      "Acurácia na base de treino:    97.6\n",
      "Acurácia na base de teste:     88.0\n"
     ]
    }
   ],
   "source": [
    "print(f'Acurácia na base de treino:    {train_score*100:.1f}')\n",
    "print(f'Acurácia na base de teste:     {test_score*100:.1f}')"
   ]
  },
  {
   "cell_type": "markdown",
   "metadata": {},
   "source": [
    "**A acurácia na base de treino foi de 97.6% e na base de teste 88%. Tempo de processamento de 5.67 segundos**"
   ]
  },
  {
   "cell_type": "markdown",
   "metadata": {},
   "source": [
    " "
   ]
  },
  {
   "cell_type": "markdown",
   "metadata": {},
   "source": [
    "## Árvore com PCA\n",
    "\n",
    "Faça uma análise de componemtes principais das variáveis originais. Utilize apenas uma componente. Faça uma árvore de decisão com esta componente como variável explicativa.\n",
    "\n",
    "- Avalie a acurácia nas bases de treinamento e teste\n",
    "- Avalie o tempo de processamento"
   ]
  },
  {
   "cell_type": "code",
   "execution_count": 38,
   "metadata": {},
   "outputs": [
    {
     "name": "stdout",
     "output_type": "stream",
     "text": [
      "CPU times: user 735 ms, sys: 367 ms, total: 1.1 s\n",
      "Wall time: 298 ms\n"
     ]
    }
   ],
   "source": [
    "%%time\n",
    "\n",
    "dpca = PCA(n_components = 1)\n",
    "dpca.set_output(transform=\"pandas\")\n",
    "dpca.fit(X_train)\n",
    "\n",
    "pc_treino = dpca.transform(X_train)\n",
    "pc_teste  = dpca.transform(X_test)"
   ]
  },
  {
   "cell_type": "code",
   "execution_count": 39,
   "metadata": {},
   "outputs": [
    {
     "name": "stdout",
     "output_type": "stream",
     "text": [
      "CPU times: user 88.9 ms, sys: 0 ns, total: 88.9 ms\n",
      "Wall time: 85 ms\n"
     ]
    }
   ],
   "source": [
    "%%time\n",
    "\n",
    "pc_clf = DecisionTreeClassifier(ccp_alpha=0.001, random_state=1234)\n",
    "pc_clf.fit(pc_treino, y_train)\n",
    "\n",
    "pc_train_score = pc_clf.score(pc_treino, y_train)\n",
    "pc_test_score  = pc_clf.score(pc_teste, y_test)"
   ]
  },
  {
   "cell_type": "code",
   "execution_count": 40,
   "metadata": {},
   "outputs": [
    {
     "name": "stdout",
     "output_type": "stream",
     "text": [
      "Acurácia na base de treino:    50.0\n",
      "Acurácia na base de teste:     45.7\n"
     ]
    }
   ],
   "source": [
    "print(f'Acurácia na base de treino:    {pc_train_score*100:.1f}')\n",
    "print(f'Acurácia na base de teste:     {pc_test_score*100:.1f}')"
   ]
  },
  {
   "cell_type": "markdown",
   "metadata": {},
   "source": [
    "**Mantendo o ccp_alpha=0.001, a acurácia da árvore de decisão na base de treino foi de 50% e na base de teste 45,7%. Tempo de processamento foi muito mais rápido, apenas 85ms**"
   ]
  },
  {
   "cell_type": "markdown",
   "metadata": {},
   "source": [
    " "
   ]
  },
  {
   "cell_type": "markdown",
   "metadata": {},
   "source": [
    "## Testando o número de componentes\n",
    "\n",
    "Com base no código acima, teste a árvore de classificação com pelo menos as seguintes possibilidades de quantidades de componentes: ```[1, 2, 5, 10, 50]```. Avalie para cada uma delas:\n",
    "\n",
    "- Acurácia nas bases de treino e teste\n",
    "- Tempo de processamento\n"
   ]
  },
  {
   "cell_type": "code",
   "execution_count": 45,
   "metadata": {},
   "outputs": [],
   "source": [
    "def testar_componentes(n: int):\n",
    "    pca = PCA(n_components = n)\n",
    "    pca.set_output(transform=\"pandas\")\n",
    "    pca.fit(X_train)\n",
    "\n",
    "    treino = pca.transform(X_train)\n",
    "    teste  = pca.transform(X_test)\n",
    "\n",
    "    clf = DecisionTreeClassifier(ccp_alpha=0.001, random_state=1234)\n",
    "    clf.fit(treino, y_train)\n",
    "\n",
    "    train_score = clf.score(treino, y_train)\n",
    "    test_score  = clf.score(teste, y_test)\n",
    "    \n",
    "    print(f'Quantidades de componentes:    {n}')\n",
    "    print(f'Acurácia na base de treino:    {train_score*100:.1f}')\n",
    "    print(f'Acurácia na base de teste:     {test_score*100:.1f}')\n",
    "    print('\\n')"
   ]
  },
  {
   "cell_type": "code",
   "execution_count": 47,
   "metadata": {},
   "outputs": [
    {
     "name": "stdout",
     "output_type": "stream",
     "text": [
      "Quantidades de componentes:    1\n",
      "Acurácia na base de treino:    50.0\n",
      "Acurácia na base de teste:     45.7\n",
      "\n",
      "\n",
      "CPU times: user 975 ms, sys: 549 ms, total: 1.52 s\n",
      "Wall time: 419 ms\n"
     ]
    }
   ],
   "source": [
    "%%time\n",
    "testar_componentes(1)"
   ]
  },
  {
   "cell_type": "code",
   "execution_count": 48,
   "metadata": {},
   "outputs": [
    {
     "name": "stdout",
     "output_type": "stream",
     "text": [
      "Quantidades de componentes:    2\n",
      "Acurácia na base de treino:    61.3\n",
      "Acurácia na base de teste:     58.5\n",
      "\n",
      "\n",
      "CPU times: user 917 ms, sys: 459 ms, total: 1.38 s\n",
      "Wall time: 359 ms\n"
     ]
    }
   ],
   "source": [
    "%%time\n",
    "testar_componentes(2)"
   ]
  },
  {
   "cell_type": "code",
   "execution_count": 49,
   "metadata": {},
   "outputs": [
    {
     "name": "stdout",
     "output_type": "stream",
     "text": [
      "Quantidades de componentes:    5\n",
      "Acurácia na base de treino:    84.6\n",
      "Acurácia na base de teste:     78.9\n",
      "\n",
      "\n",
      "CPU times: user 802 ms, sys: 622 ms, total: 1.42 s\n",
      "Wall time: 373 ms\n"
     ]
    }
   ],
   "source": [
    "%%time\n",
    "testar_componentes(5)"
   ]
  },
  {
   "cell_type": "code",
   "execution_count": 50,
   "metadata": {},
   "outputs": [
    {
     "name": "stdout",
     "output_type": "stream",
     "text": [
      "Quantidades de componentes:    10\n",
      "Acurácia na base de treino:    89.3\n",
      "Acurácia na base de teste:     82.4\n",
      "\n",
      "\n",
      "CPU times: user 1.09 s, sys: 523 ms, total: 1.61 s\n",
      "Wall time: 464 ms\n"
     ]
    }
   ],
   "source": [
    "%%time\n",
    "testar_componentes(10)"
   ]
  },
  {
   "cell_type": "code",
   "execution_count": 51,
   "metadata": {},
   "outputs": [
    {
     "name": "stdout",
     "output_type": "stream",
     "text": [
      "Quantidades de componentes:    50\n",
      "Acurácia na base de treino:    91.6\n",
      "Acurácia na base de teste:     82.7\n",
      "\n",
      "\n",
      "CPU times: user 2.34 s, sys: 838 ms, total: 3.18 s\n",
      "Wall time: 1.24 s\n"
     ]
    }
   ],
   "source": [
    "%%time\n",
    "testar_componentes(50)"
   ]
  },
  {
   "cell_type": "markdown",
   "metadata": {},
   "source": [
    "**Mantendo o ccp_alpha=0.001, a acurácia da árvore de decisão com 50 componentes na base de treino foi de 91.6% e na base de teste 82.7%. Tempo de processamento foi muito mais rápido, 1.24 segundos**"
   ]
  },
  {
   "cell_type": "markdown",
   "metadata": {},
   "source": [
    " "
   ]
  },
  {
   "cell_type": "markdown",
   "metadata": {},
   "source": [
    "## Conclua\n",
    "\n",
    "- O que aconteceu com a acurácia?\n",
    "> A acurácia na base de treino e teste foi aumentando de acordo com o aumento da quantidade de componentes. A árvore com 50 componentes foi a mais próxima da árvore com todas as variáveis. \n",
    "\n",
    "- O que aconteceu com o tempo de processamento?\n",
    "> O tempo de processamento também foi aumentando de acordo com o aumento da quantidade de componentes, mas com 50 componentes o tempo foi muito inferior em comparação com a árvore com todas as variáveis."
   ]
  },
  {
   "cell_type": "code",
   "execution_count": null,
   "metadata": {},
   "outputs": [],
   "source": []
  }
 ],
 "metadata": {
  "kernelspec": {
   "display_name": "Python 3 (ipykernel)",
   "language": "python",
   "name": "python3"
  },
  "language_info": {
   "codemirror_mode": {
    "name": "ipython",
    "version": 3
   },
   "file_extension": ".py",
   "mimetype": "text/x-python",
   "name": "python",
   "nbconvert_exporter": "python",
   "pygments_lexer": "ipython3",
   "version": "3.9.16"
  },
  "toc": {
   "base_numbering": 1,
   "nav_menu": {},
   "number_sections": true,
   "sideBar": true,
   "skip_h1_title": true,
   "title_cell": "Índice",
   "title_sidebar": "Conteúdo",
   "toc_cell": false,
   "toc_position": {},
   "toc_section_display": true,
   "toc_window_display": false
  },
  "varInspector": {
   "cols": {
    "lenName": 16,
    "lenType": 16,
    "lenVar": 40
   },
   "kernels_config": {
    "python": {
     "delete_cmd_postfix": "",
     "delete_cmd_prefix": "del ",
     "library": "var_list.py",
     "varRefreshCmd": "print(var_dic_list())"
    },
    "r": {
     "delete_cmd_postfix": ") ",
     "delete_cmd_prefix": "rm(",
     "library": "var_list.r",
     "varRefreshCmd": "cat(var_dic_list()) "
    }
   },
   "types_to_exclude": [
    "module",
    "function",
    "builtin_function_or_method",
    "instance",
    "_Feature"
   ],
   "window_display": false
  }
 },
 "nbformat": 4,
 "nbformat_minor": 4
}
