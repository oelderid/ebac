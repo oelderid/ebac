{
 "cells": [
  {
   "cell_type": "markdown",
   "metadata": {},
   "source": [
    "# Classificação de Atividade Humana com PCA\n",
    "\n",
    "Vamos trabalhar com a base da demonstração feita em aula, mas vamos explorar um pouco melhor como é o desempenho da árvore variando o número de componentes principais."
   ]
  },
  {
   "cell_type": "code",
   "execution_count": 1,
   "metadata": {},
   "outputs": [],
   "source": [
    "import pandas as pd\n",
    "import matplotlib.pyplot as plt\n",
    "import seaborn as sns\n",
    "import numpy as np\n",
    "\n",
    "# função para gerar o gráfico\n",
    "import screeplot as sps\n",
    "\n",
    "# classe do scikit-learn para padronizar os dados pela fórmula: Z= (x - média) / Desv. Padrão\n",
    "# https://scikit-learn.org/stable/modules/generated/sklearn.preprocessing.StandardScaler.html\n",
    "from sklearn.preprocessing import StandardScaler\n",
    "\n",
    "from sklearn.tree import DecisionTreeClassifier\n",
    "from sklearn.decomposition import PCA"
   ]
  },
  {
   "cell_type": "code",
   "execution_count": 2,
   "metadata": {},
   "outputs": [],
   "source": [
    "filename_features = \"dados/features.txt\"\n",
    "filename_labels = \"dados/activity_labels.txt\"\n",
    "\n",
    "filename_subtrain = \"dados/subject_train.txt\"\n",
    "filename_xtrain = \"dados/X_train.txt\"\n",
    "filename_ytrain = \"dados/y_train.txt\"\n",
    "\n",
    "filename_subtest = \"dados/subject_test.txt\"\n",
    "ffilename_xtest = \"dados/X_test.txt\"\n",
    "filename_ytest = \"dados/y_test.txt\"\n",
    "\n",
    "features = pd.read_csv(filename_features, header=None, names=['nome_var'], sep=\"#\")\n",
    "features = features.squeeze(1)\n",
    "labels = pd.read_csv(filename_labels, delim_whitespace=True, header=None, names=['cod_label', 'label'])\n",
    "\n",
    "subject_train = pd.read_csv(filename_subtrain, header=None, names=['subject_id'])\n",
    "subject_train = subject_train.squeeze(1)\n",
    "X_train = pd.read_csv(filename_xtrain, delim_whitespace=True, header=None, names=features.tolist())\n",
    "y_train = pd.read_csv(filename_ytrain, header=None, names=['cod_label'])\n",
    "\n",
    "subject_test = pd.read_csv(filename_subtest, header=None, names=['subject_id'])\n",
    "subject_test = subject_test.squeeze(1)\n",
    "X_test = pd.read_csv(ffilename_xtest, delim_whitespace=True, header=None, names=features.tolist())\n",
    "y_test = pd.read_csv(filename_ytest, header=None, names=['cod_label'])"
   ]
  },
  {
   "cell_type": "markdown",
   "metadata": {},
   "source": [
    "## PCA com variáveis padronizadas\n",
    "\n",
    "Reflexão sobre a escala das variáveis:\n",
    "\n",
    "**Variáveis em métricas muito diferentes** podem interferir na análise de componentes principais. Lembra que variância é informação pra nós? Pois bem, tipicamente se há uma variável monetária como salário, vai ter uma ordem de variabilidade bem maior que número de filhos, tempo de emprego ou qualquer variável dummy. Assim, as variáveis de maior variância tendem a \"dominar\" a análise. Nesses casos é comum usar a padronização das variáveis.\n",
    "\n",
    "Faça duas análises de componentes principais para a base do HAR - com e sem padronização e compare:\n",
    "\n",
    "- A variância explicada por componente\n",
    "- A variância explicada acumulada por componente\n",
    "- A variância percentual por componente\n",
    "- A variância percentual acumulada por componente\n",
    "- Quantas componentes você escolheria, em cada caso para explicar 90% da variância?"
   ]
  },
  {
   "cell_type": "markdown",
   "metadata": {},
   "source": [
    "### Padronização das variáveis"
   ]
  },
  {
   "cell_type": "code",
   "execution_count": 3,
   "metadata": {},
   "outputs": [
    {
     "name": "stdout",
     "output_type": "stream",
     "text": [
      "CPU times: user 57.7 ms, sys: 9.18 ms, total: 66.8 ms\n",
      "Wall time: 63.6 ms\n"
     ]
    },
    {
     "data": {
      "text/html": [
       "<div>\n",
       "<style scoped>\n",
       "    .dataframe tbody tr th:only-of-type {\n",
       "        vertical-align: middle;\n",
       "    }\n",
       "\n",
       "    .dataframe tbody tr th {\n",
       "        vertical-align: top;\n",
       "    }\n",
       "\n",
       "    .dataframe thead th {\n",
       "        text-align: right;\n",
       "    }\n",
       "</style>\n",
       "<table border=\"1\" class=\"dataframe\">\n",
       "  <thead>\n",
       "    <tr style=\"text-align: right;\">\n",
       "      <th></th>\n",
       "      <th>1 tBodyAcc-mean()-X</th>\n",
       "      <th>2 tBodyAcc-mean()-Y</th>\n",
       "      <th>3 tBodyAcc-mean()-Z</th>\n",
       "      <th>4 tBodyAcc-std()-X</th>\n",
       "      <th>5 tBodyAcc-std()-Y</th>\n",
       "      <th>6 tBodyAcc-std()-Z</th>\n",
       "      <th>7 tBodyAcc-mad()-X</th>\n",
       "      <th>8 tBodyAcc-mad()-Y</th>\n",
       "      <th>9 tBodyAcc-mad()-Z</th>\n",
       "      <th>10 tBodyAcc-max()-X</th>\n",
       "      <th>...</th>\n",
       "      <th>552 fBodyBodyGyroJerkMag-meanFreq()</th>\n",
       "      <th>553 fBodyBodyGyroJerkMag-skewness()</th>\n",
       "      <th>554 fBodyBodyGyroJerkMag-kurtosis()</th>\n",
       "      <th>555 angle(tBodyAccMean,gravity)</th>\n",
       "      <th>556 angle(tBodyAccJerkMean),gravityMean)</th>\n",
       "      <th>557 angle(tBodyGyroMean,gravityMean)</th>\n",
       "      <th>558 angle(tBodyGyroJerkMean,gravityMean)</th>\n",
       "      <th>559 angle(X,gravityMean)</th>\n",
       "      <th>560 angle(Y,gravityMean)</th>\n",
       "      <th>561 angle(Z,gravityMean)</th>\n",
       "    </tr>\n",
       "  </thead>\n",
       "  <tbody>\n",
       "    <tr>\n",
       "      <th>0</th>\n",
       "      <td>0.200642</td>\n",
       "      <td>-0.063683</td>\n",
       "      <td>-0.419628</td>\n",
       "      <td>-0.868814</td>\n",
       "      <td>-0.939441</td>\n",
       "      <td>-0.737529</td>\n",
       "      <td>-0.859817</td>\n",
       "      <td>-0.939019</td>\n",
       "      <td>-0.766437</td>\n",
       "      <td>-0.856036</td>\n",
       "      <td>...</td>\n",
       "      <td>-0.795359</td>\n",
       "      <td>0.025960</td>\n",
       "      <td>-0.276399</td>\n",
       "      <td>-0.360603</td>\n",
       "      <td>0.062940</td>\n",
       "      <td>-0.778427</td>\n",
       "      <td>-0.026080</td>\n",
       "      <td>-0.687219</td>\n",
       "      <td>0.407946</td>\n",
       "      <td>-0.007568</td>\n",
       "    </tr>\n",
       "    <tr>\n",
       "      <th>1</th>\n",
       "      <td>0.055948</td>\n",
       "      <td>0.031486</td>\n",
       "      <td>-0.253908</td>\n",
       "      <td>-0.875426</td>\n",
       "      <td>-0.923902</td>\n",
       "      <td>-0.849304</td>\n",
       "      <td>-0.868531</td>\n",
       "      <td>-0.921998</td>\n",
       "      <td>-0.848928</td>\n",
       "      <td>-0.871359</td>\n",
       "      <td>...</td>\n",
       "      <td>0.130614</td>\n",
       "      <td>-0.897357</td>\n",
       "      <td>-0.767990</td>\n",
       "      <td>0.133011</td>\n",
       "      <td>-0.021461</td>\n",
       "      <td>-1.218805</td>\n",
       "      <td>1.484470</td>\n",
       "      <td>-0.694138</td>\n",
       "      <td>0.409117</td>\n",
       "      <td>0.007875</td>\n",
       "    </tr>\n",
       "    <tr>\n",
       "      <th>2</th>\n",
       "      <td>0.073515</td>\n",
       "      <td>-0.043416</td>\n",
       "      <td>-0.076295</td>\n",
       "      <td>-0.869039</td>\n",
       "      <td>-0.907760</td>\n",
       "      <td>-0.893785</td>\n",
       "      <td>-0.863137</td>\n",
       "      <td>-0.898854</td>\n",
       "      <td>-0.896701</td>\n",
       "      <td>-0.863323</td>\n",
       "      <td>...</td>\n",
       "      <td>1.152336</td>\n",
       "      <td>-0.260878</td>\n",
       "      <td>-0.438316</td>\n",
       "      <td>-0.377840</td>\n",
       "      <td>0.391976</td>\n",
       "      <td>0.151207</td>\n",
       "      <td>1.704201</td>\n",
       "      <td>-0.702239</td>\n",
       "      <td>0.410288</td>\n",
       "      <td>0.026502</td>\n",
       "    </tr>\n",
       "    <tr>\n",
       "      <th>3</th>\n",
       "      <td>0.066696</td>\n",
       "      <td>-0.208422</td>\n",
       "      <td>-0.249712</td>\n",
       "      <td>-0.870626</td>\n",
       "      <td>-0.940022</td>\n",
       "      <td>-0.921805</td>\n",
       "      <td>-0.864503</td>\n",
       "      <td>-0.938124</td>\n",
       "      <td>-0.925279</td>\n",
       "      <td>-0.863323</td>\n",
       "      <td>...</td>\n",
       "      <td>1.112769</td>\n",
       "      <td>0.591045</td>\n",
       "      <td>0.463155</td>\n",
       "      <td>-0.135025</td>\n",
       "      <td>-0.033637</td>\n",
       "      <td>1.037851</td>\n",
       "      <td>-1.003019</td>\n",
       "      <td>-0.701684</td>\n",
       "      <td>0.414650</td>\n",
       "      <td>0.031714</td>\n",
       "    </tr>\n",
       "    <tr>\n",
       "      <th>4</th>\n",
       "      <td>0.030469</td>\n",
       "      <td>0.027587</td>\n",
       "      <td>-0.109848</td>\n",
       "      <td>-0.875188</td>\n",
       "      <td>-0.934878</td>\n",
       "      <td>-0.921343</td>\n",
       "      <td>-0.867384</td>\n",
       "      <td>-0.931789</td>\n",
       "      <td>-0.928028</td>\n",
       "      <td>-0.870260</td>\n",
       "      <td>...</td>\n",
       "      <td>-0.149577</td>\n",
       "      <td>-0.138515</td>\n",
       "      <td>-0.240313</td>\n",
       "      <td>0.340406</td>\n",
       "      <td>0.268486</td>\n",
       "      <td>1.125918</td>\n",
       "      <td>-1.276282</td>\n",
       "      <td>-0.700152</td>\n",
       "      <td>0.425463</td>\n",
       "      <td>0.045225</td>\n",
       "    </tr>\n",
       "  </tbody>\n",
       "</table>\n",
       "<p>5 rows × 561 columns</p>\n",
       "</div>"
      ],
      "text/plain": [
       "   1 tBodyAcc-mean()-X  2 tBodyAcc-mean()-Y  3 tBodyAcc-mean()-Z  \\\n",
       "0             0.200642            -0.063683            -0.419628   \n",
       "1             0.055948             0.031486            -0.253908   \n",
       "2             0.073515            -0.043416            -0.076295   \n",
       "3             0.066696            -0.208422            -0.249712   \n",
       "4             0.030469             0.027587            -0.109848   \n",
       "\n",
       "   4 tBodyAcc-std()-X  5 tBodyAcc-std()-Y  6 tBodyAcc-std()-Z  \\\n",
       "0           -0.868814           -0.939441           -0.737529   \n",
       "1           -0.875426           -0.923902           -0.849304   \n",
       "2           -0.869039           -0.907760           -0.893785   \n",
       "3           -0.870626           -0.940022           -0.921805   \n",
       "4           -0.875188           -0.934878           -0.921343   \n",
       "\n",
       "   7 tBodyAcc-mad()-X  8 tBodyAcc-mad()-Y  9 tBodyAcc-mad()-Z  \\\n",
       "0           -0.859817           -0.939019           -0.766437   \n",
       "1           -0.868531           -0.921998           -0.848928   \n",
       "2           -0.863137           -0.898854           -0.896701   \n",
       "3           -0.864503           -0.938124           -0.925279   \n",
       "4           -0.867384           -0.931789           -0.928028   \n",
       "\n",
       "   10 tBodyAcc-max()-X  ...  552 fBodyBodyGyroJerkMag-meanFreq()  \\\n",
       "0            -0.856036  ...                            -0.795359   \n",
       "1            -0.871359  ...                             0.130614   \n",
       "2            -0.863323  ...                             1.152336   \n",
       "3            -0.863323  ...                             1.112769   \n",
       "4            -0.870260  ...                            -0.149577   \n",
       "\n",
       "   553 fBodyBodyGyroJerkMag-skewness()  554 fBodyBodyGyroJerkMag-kurtosis()  \\\n",
       "0                             0.025960                            -0.276399   \n",
       "1                            -0.897357                            -0.767990   \n",
       "2                            -0.260878                            -0.438316   \n",
       "3                             0.591045                             0.463155   \n",
       "4                            -0.138515                            -0.240313   \n",
       "\n",
       "   555 angle(tBodyAccMean,gravity)  556 angle(tBodyAccJerkMean),gravityMean)  \\\n",
       "0                        -0.360603                                  0.062940   \n",
       "1                         0.133011                                 -0.021461   \n",
       "2                        -0.377840                                  0.391976   \n",
       "3                        -0.135025                                 -0.033637   \n",
       "4                         0.340406                                  0.268486   \n",
       "\n",
       "   557 angle(tBodyGyroMean,gravityMean)  \\\n",
       "0                             -0.778427   \n",
       "1                             -1.218805   \n",
       "2                              0.151207   \n",
       "3                              1.037851   \n",
       "4                              1.125918   \n",
       "\n",
       "   558 angle(tBodyGyroJerkMean,gravityMean)  559 angle(X,gravityMean)  \\\n",
       "0                                 -0.026080                 -0.687219   \n",
       "1                                  1.484470                 -0.694138   \n",
       "2                                  1.704201                 -0.702239   \n",
       "3                                 -1.003019                 -0.701684   \n",
       "4                                 -1.276282                 -0.700152   \n",
       "\n",
       "   560 angle(Y,gravityMean)  561 angle(Z,gravityMean)  \n",
       "0                  0.407946                 -0.007568  \n",
       "1                  0.409117                  0.007875  \n",
       "2                  0.410288                  0.026502  \n",
       "3                  0.414650                  0.031714  \n",
       "4                  0.425463                  0.045225  \n",
       "\n",
       "[5 rows x 561 columns]"
      ]
     },
     "execution_count": 3,
     "metadata": {},
     "output_type": "execute_result"
    }
   ],
   "source": [
    "%%time\n",
    "\n",
    "scaler = StandardScaler()\n",
    "\n",
    "scaled_data = scaler.fit_transform(X_train, y_train)\n",
    "\n",
    "X_scaled = pd.DataFrame(scaled_data, columns = X_train.columns)\n",
    "\n",
    "X_scaled.head()"
   ]
  },
  {
   "cell_type": "markdown",
   "metadata": {},
   "source": [
    "### Análise de componentes principais com dados padronizados"
   ]
  },
  {
   "cell_type": "code",
   "execution_count": 4,
   "metadata": {},
   "outputs": [],
   "source": [
    "pca_scaled = PCA()\n",
    "pca_scaled.set_output(transform=\"pandas\")\n",
    "princomp = pca_scaled.fit(X_scaled)"
   ]
  },
  {
   "cell_type": "code",
   "execution_count": 5,
   "metadata": {},
   "outputs": [
    {
     "name": "stdout",
     "output_type": "stream",
     "text": [
      "Número de componentes:............... 63\n",
      "Variância da ultima CP:.............. 0.99\n",
      "Variância total explicada:........... 505.27\n",
      "Variância percentual da última CP:... 0.18%\n",
      "Variância percentual total explicada: 90.05%\n"
     ]
    },
    {
     "data": {
      "image/png": "[encoded data removed]",
      "text/plain": [
       "<Figure size 1400x800 with 4 Axes>"
      ]
     },
     "metadata": {},
     "output_type": "display_data"
    }
   ],
   "source": [
    "# 90% da variância explicada:\n",
    "# - por componente\n",
    "# - acumulada por componente\n",
    "# - percentual por componente\n",
    "# - percentual acumulada por componente\n",
    "\n",
    "_ = sps.screeplot(princomp, varexplicada=.90)"
   ]
  },
  {
   "cell_type": "markdown",
   "metadata": {},
   "source": [
    "**Quantas componentes você escolheria, em cada caso para explicar 90% da variância?**\n",
    "> Para explicar 90% da variância escolheríamos 63 componentes"
   ]
  },
  {
   "cell_type": "markdown",
   "metadata": {},
   "source": [
    "## Árvore com PCA\n",
    "\n",
    "Faça duas uma árvore de decisão com 10 componentes principais - uma com base em dados padronizados e outra sem padronizar. Utilize o ```ccp_alpha=0.001```.\n",
    "\n",
    "Compare a acurácia na base de treino e teste."
   ]
  },
  {
   "cell_type": "markdown",
   "metadata": {},
   "source": [
    "#### Convertendo os dados de treino e teste"
   ]
  },
  {
   "cell_type": "code",
   "execution_count": 6,
   "metadata": {},
   "outputs": [],
   "source": [
    "# união dos dados de treino e teste para padronizar as variáveis\n",
    "base = pd.concat([X_train, X_test])\n",
    "\n",
    "# cria o conversor\n",
    "scaler = StandardScaler()\n",
    "scaled_data = scaler.fit_transform(base)\n",
    "\n",
    "# cria um novo Dataframe para os dados convertidos\n",
    "base_scaled = pd.DataFrame(scaled_data, columns = base.columns)\n",
    "\n",
    "# separando os dados de treino e teste novamente, agora com os dados padronizados\n",
    "base_train_scaled = base_scaled.iloc[0:X_train.shape[0], 0:X_train.shape[1]]\n",
    "base_test_scaled  = base_scaled.iloc[X_train.shape[0]: , 0:X_train.shape[1]]"
   ]
  },
  {
   "cell_type": "markdown",
   "metadata": {},
   "source": [
    "#### Obtendo 10 componentes principais com os dados padronizados"
   ]
  },
  {
   "cell_type": "code",
   "execution_count": 7,
   "metadata": {},
   "outputs": [],
   "source": [
    "pca_scaled = PCA(n_components=10)\n",
    "pca_scaled.set_output(transform=\"pandas\")\n",
    "pca_scaled.fit(base_train_scaled)\n",
    "\n",
    "X_train_scaled = pca_scaled.transform(base_train_scaled)\n",
    "X_test_scaled  = pca_scaled.transform(base_test_scaled)"
   ]
  },
  {
   "cell_type": "markdown",
   "metadata": {},
   "source": [
    "#### Obtendo 10 componentes principais com os dados normais"
   ]
  },
  {
   "cell_type": "code",
   "execution_count": 8,
   "metadata": {},
   "outputs": [],
   "source": [
    "pca_normal = PCA(n_components=10)\n",
    "pca_normal.set_output(transform=\"pandas\")\n",
    "pca_normal.fit(X_train)\n",
    "\n",
    "X_train_normal = pca_normal.transform(X_train)\n",
    "X_test_normal  = pca_normal.transform(X_test)"
   ]
  },
  {
   "cell_type": "markdown",
   "metadata": {},
   "source": [
    "#### Árvore de decisão com dados padronizados"
   ]
  },
  {
   "cell_type": "code",
   "execution_count": 9,
   "metadata": {},
   "outputs": [
    {
     "name": "stdout",
     "output_type": "stream",
     "text": [
      "Acurácia na base de treino:    86.1\n",
      "Acurácia na base de teste:     77.8\n",
      "CPU times: user 120 ms, sys: 9.27 ms, total: 129 ms\n",
      "Wall time: 126 ms\n"
     ]
    }
   ],
   "source": [
    "%%time\n",
    "\n",
    "clf_scaled = DecisionTreeClassifier(ccp_alpha=0.001, random_state=1234)\n",
    "clf_scaled.fit(X_train_scaled, y_train)\n",
    "\n",
    "train_scaled_score = clf_scaled.score(X_train_scaled, y_train)\n",
    "test_scaled_score  = clf_scaled.score(X_test_scaled, y_test)\n",
    "\n",
    "print(f'Acurácia na base de treino:    {train_scaled_score*100:.1f}')\n",
    "print(f'Acurácia na base de teste:     {test_scaled_score*100:.1f}')"
   ]
  },
  {
   "cell_type": "markdown",
   "metadata": {},
   "source": [
    "#### Árvore de decisão com dados normais"
   ]
  },
  {
   "cell_type": "code",
   "execution_count": 10,
   "metadata": {},
   "outputs": [
    {
     "name": "stdout",
     "output_type": "stream",
     "text": [
      "Acurácia na base de treino:    89.3\n",
      "Acurácia na base de teste:     82.4\n",
      "CPU times: user 155 ms, sys: 10.8 ms, total: 166 ms\n",
      "Wall time: 161 ms\n"
     ]
    }
   ],
   "source": [
    "%%time\n",
    "\n",
    "clf_normal = DecisionTreeClassifier(ccp_alpha=0.001, random_state=1234)\n",
    "clf_normal.fit(X_train_normal, y_train)\n",
    "\n",
    "train_normal_score = clf_normal.score(X_train_normal, y_train)\n",
    "test_normal_score  = clf_normal.score(X_test_normal, y_test)\n",
    "\n",
    "print(f'Acurácia na base de treino:    {train_normal_score*100:.1f}')\n",
    "print(f'Acurácia na base de teste:     {test_normal_score*100:.1f}')"
   ]
  },
  {
   "cell_type": "markdown",
   "metadata": {},
   "source": [
    "**Compare a acurácia na base de treino e teste.**\n",
    "> A acurácia na base de treino e teste com os dados normais foi maior do que a acurácia com os dados padronizados."
   ]
  },
  {
   "cell_type": "code",
   "execution_count": null,
   "metadata": {},
   "outputs": [],
   "source": []
  }
 ],
 "metadata": {
  "kernelspec": {
   "display_name": "Python 3 (ipykernel)",
   "language": "python",
   "name": "python3"
  },
  "language_info": {
   "codemirror_mode": {
    "name": "ipython",
    "version": 3
   },
   "file_extension": ".py",
   "mimetype": "text/x-python",
   "name": "python",
   "nbconvert_exporter": "python",
   "pygments_lexer": "ipython3",
   "version": "3.9.16"
  },
  "toc": {
   "base_numbering": 1,
   "nav_menu": {},
   "number_sections": true,
   "sideBar": true,
   "skip_h1_title": true,
   "title_cell": "Índice",
   "title_sidebar": "Conteúdo",
   "toc_cell": false,
   "toc_position": {},
   "toc_section_display": true,
   "toc_window_display": false
  },
  "varInspector": {
   "cols": {
    "lenName": 16,
    "lenType": 16,
    "lenVar": 40
   },
   "kernels_config": {
    "python": {
     "delete_cmd_postfix": "",
     "delete_cmd_prefix": "del ",
     "library": "var_list.py",
     "varRefreshCmd": "print(var_dic_list())"
    },
    "r": {
     "delete_cmd_postfix": ") ",
     "delete_cmd_prefix": "rm(",
     "library": "var_list.r",
     "varRefreshCmd": "cat(var_dic_list()) "
    }
   },
   "types_to_exclude": [
    "module",
    "function",
    "builtin_function_or_method",
    "instance",
    "_Feature"
   ],
   "window_display": false
  }
 },
 "nbformat": 4,
 "nbformat_minor": 4
}
