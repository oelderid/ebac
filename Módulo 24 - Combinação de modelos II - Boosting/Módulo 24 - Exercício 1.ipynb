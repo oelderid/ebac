{
 "cells": [
  {
   "cell_type": "markdown",
   "id": "09d61821",
   "metadata": {},
   "source": [
    "### 1. 5 diferenças entre o Random Forest e o AdaBoost"
   ]
  },
  {
   "cell_type": "markdown",
   "id": "88576192",
   "metadata": {},
   "source": [
    "**Método de combinação:** <br> \n",
    "O Random Forest é um algoritmo de conjunto que combina várias árvores de decisão independentes para tomar uma decisão final. Já o AdaBoost é um algoritmo de conjunto que combina várias versões de um único modelo de aprendizado de máquina fraco para criar um modelo mais forte.\n",
    "\n",
    "**Ponderação das amostras** <br> \n",
    "No Random Forest, todas as amostras têm o mesmo peso durante o treinamento de cada árvore de decisão. Cada árvore contribui igualmente para a decisão final. No AdaBoost, as amostras são ponderadas de acordo com o desempenho dos modelos anteriores. As amostras mal classificadas recebem um peso maior, permitindo que os modelos subsequentes se concentrem nelas.\n",
    "\n",
    "**Seleção de recursos** <br> \n",
    "O Random Forest seleciona aleatoriamente um subconjunto de recursos em cada árvore de decisão para treinamento. No AdaBoost, todos os recursos são considerados em cada iteração, mas são ponderados de acordo com seu desempenho em modelos anteriores.\n",
    "\n",
    "**Independência das árvores** <br> \n",
    "No Random Forest, as árvores de decisão são independentes umas das outras, o que significa que cada árvore é treinada separadamente e não há influência entre elas durante o treinamento. Já no AdaBoost, as versões do modelo são treinadas sequencialmente, onde cada novo modelo é treinado para corrigir os erros cometidos pelas versões anteriores.\n",
    "\n",
    "**Robustez a ruídos** <br> \n",
    "O Random Forest é conhecido por ser robusto a ruídos e outliers, pois a média das previsões de várias árvores reduz o impacto desses valores atípicos. O AdaBoost é mais sensível a ruídos e outliers, pois tenta corrigir os erros cometidos pelos modelos anteriores, o que pode levar a um superajuste se os erros forem causados por ruídos."
   ]
  },
  {
   "cell_type": "markdown",
   "id": "5a460eaf",
   "metadata": {},
   "source": [
    "### 2. Exemplo do AdaBoost"
   ]
  },
  {
   "cell_type": "code",
   "execution_count": 1,
   "id": "32697e17",
   "metadata": {},
   "outputs": [
    {
     "data": {
      "text/plain": [
       "0.9466666666666665"
      ]
     },
     "execution_count": 1,
     "metadata": {},
     "output_type": "execute_result"
    }
   ],
   "source": [
    "from sklearn.model_selection import cross_val_score\n",
    "from sklearn.datasets import load_iris\n",
    "from sklearn.ensemble import AdaBoostClassifier\n",
    "\n",
    "X, y = load_iris(return_X_y=True)\n",
    "clf = AdaBoostClassifier(n_estimators=100)\n",
    "scores = cross_val_score(clf, X, y, cv=5)\n",
    "scores.mean()"
   ]
  },
  {
   "cell_type": "markdown",
   "id": "9b40079b",
   "metadata": {},
   "source": [
    "### 3. Hiperparâmetros importantes no AdaBoostClassifier"
   ]
  },
  {
   "cell_type": "markdown",
   "id": "f222b227",
   "metadata": {},
   "source": [
    "**estimator:** <br>\n",
    "É o estimador base utilizado pelo AdaBoostClassifier. O estimador padrão o DecisionTreeClassifier com profundidade máxima igual a 1.\n",
    "\n",
    "**n_estimators:** <br>\n",
    "É o número de estimadores a serem criados. O valor padrão é 50.\n",
    "\n",
    "**learning_rate:** <br>\n",
    "É o peso aplicado a cada estimador. Um learning_rate menor reduz a contribuição de cada estimador, tornando o processo de aprendizado mais lento, mas potencialmente mais preciso. O valor padrão é 1.\n",
    "\n",
    "**algorithm:** <br>\n",
    "É o algoritmo utilizado para atualizar os pesos das amostras em cada iteração. Existem duas opções disponíveis: 'SAMME' e 'SAMME.R'. O 'SAMME' é uma versão discreta do algoritmo, enquanto o 'SAMME.R' é uma versão real do algoritmo. O valor padrão é 'SAMME.R'.\n",
    "\n",
    "**random_state:** <br>\n",
    "É a semente utilizada pelo gerador de números aleatórios para reproduzir os resultados. O valor padrão é None.\n"
   ]
  },
  {
   "cell_type": "markdown",
   "id": "40079092",
   "metadata": {},
   "source": [
    "### 4. Uso do GridSearchCV para encontrar os melhores hiperparâmetros"
   ]
  },
  {
   "cell_type": "code",
   "execution_count": 2,
   "id": "ff577a0a",
   "metadata": {},
   "outputs": [],
   "source": [
    "from sklearn.model_selection import GridSearchCV"
   ]
  },
  {
   "cell_type": "code",
   "execution_count": 8,
   "id": "a4ee0b76",
   "metadata": {},
   "outputs": [],
   "source": [
    "parameters = {\n",
    "    'n_estimators': [100, 150, 200, 250],\n",
    "    'learning_rate': [1.0, 1.2, 1.3, 1.5],\n",
    "    'algorithm': ['SAMME', 'SAMME.R']\n",
    "}"
   ]
  },
  {
   "cell_type": "code",
   "execution_count": 9,
   "id": "479d5973",
   "metadata": {},
   "outputs": [
    {
     "name": "stdout",
     "output_type": "stream",
     "text": [
      "CPU times: user 393 ms, sys: 7.83 ms, total: 400 ms\n",
      "Wall time: 16.8 s\n"
     ]
    },
    {
     "data": {
      "text/html": [
       "<style>#sk-container-id-2 {color: black;}#sk-container-id-2 pre{padding: 0;}#sk-container-id-2 div.sk-toggleable {background-color: white;}#sk-container-id-2 label.sk-toggleable__label {cursor: pointer;display: block;width: 100%;margin-bottom: 0;padding: 0.3em;box-sizing: border-box;text-align: center;}#sk-container-id-2 label.sk-toggleable__label-arrow:before {content: \"▸\";float: left;margin-right: 0.25em;color: #696969;}#sk-container-id-2 label.sk-toggleable__label-arrow:hover:before {color: black;}#sk-container-id-2 div.sk-estimator:hover label.sk-toggleable__label-arrow:before {color: black;}#sk-container-id-2 div.sk-toggleable__content {max-height: 0;max-width: 0;overflow: hidden;text-align: left;background-color: #f0f8ff;}#sk-container-id-2 div.sk-toggleable__content pre {margin: 0.2em;color: black;border-radius: 0.25em;background-color: #f0f8ff;}#sk-container-id-2 input.sk-toggleable__control:checked~div.sk-toggleable__content {max-height: 200px;max-width: 100%;overflow: auto;}#sk-container-id-2 input.sk-toggleable__control:checked~label.sk-toggleable__label-arrow:before {content: \"▾\";}#sk-container-id-2 div.sk-estimator input.sk-toggleable__control:checked~label.sk-toggleable__label {background-color: #d4ebff;}#sk-container-id-2 div.sk-label input.sk-toggleable__control:checked~label.sk-toggleable__label {background-color: #d4ebff;}#sk-container-id-2 input.sk-hidden--visually {border: 0;clip: rect(1px 1px 1px 1px);clip: rect(1px, 1px, 1px, 1px);height: 1px;margin: -1px;overflow: hidden;padding: 0;position: absolute;width: 1px;}#sk-container-id-2 div.sk-estimator {font-family: monospace;background-color: #f0f8ff;border: 1px dotted black;border-radius: 0.25em;box-sizing: border-box;margin-bottom: 0.5em;}#sk-container-id-2 div.sk-estimator:hover {background-color: #d4ebff;}#sk-container-id-2 div.sk-parallel-item::after {content: \"\";width: 100%;border-bottom: 1px solid gray;flex-grow: 1;}#sk-container-id-2 div.sk-label:hover label.sk-toggleable__label {background-color: #d4ebff;}#sk-container-id-2 div.sk-serial::before {content: \"\";position: absolute;border-left: 1px solid gray;box-sizing: border-box;top: 0;bottom: 0;left: 50%;z-index: 0;}#sk-container-id-2 div.sk-serial {display: flex;flex-direction: column;align-items: center;background-color: white;padding-right: 0.2em;padding-left: 0.2em;position: relative;}#sk-container-id-2 div.sk-item {position: relative;z-index: 1;}#sk-container-id-2 div.sk-parallel {display: flex;align-items: stretch;justify-content: center;background-color: white;position: relative;}#sk-container-id-2 div.sk-item::before, #sk-container-id-2 div.sk-parallel-item::before {content: \"\";position: absolute;border-left: 1px solid gray;box-sizing: border-box;top: 0;bottom: 0;left: 50%;z-index: -1;}#sk-container-id-2 div.sk-parallel-item {display: flex;flex-direction: column;z-index: 1;position: relative;background-color: white;}#sk-container-id-2 div.sk-parallel-item:first-child::after {align-self: flex-end;width: 50%;}#sk-container-id-2 div.sk-parallel-item:last-child::after {align-self: flex-start;width: 50%;}#sk-container-id-2 div.sk-parallel-item:only-child::after {width: 0;}#sk-container-id-2 div.sk-dashed-wrapped {border: 1px dashed gray;margin: 0 0.4em 0.5em 0.4em;box-sizing: border-box;padding-bottom: 0.4em;background-color: white;}#sk-container-id-2 div.sk-label label {font-family: monospace;font-weight: bold;display: inline-block;line-height: 1.2em;}#sk-container-id-2 div.sk-label-container {text-align: center;}#sk-container-id-2 div.sk-container {/* jupyter's `normalize.less` sets `[hidden] { display: none; }` but bootstrap.min.css set `[hidden] { display: none !important; }` so we also need the `!important` here to be able to override the default hidden behavior on the sphinx rendered scikit-learn.org. See: https://github.com/scikit-learn/scikit-learn/issues/21755 */display: inline-block !important;position: relative;}#sk-container-id-2 div.sk-text-repr-fallback {display: none;}</style><div id=\"sk-container-id-2\" class=\"sk-top-container\"><div class=\"sk-text-repr-fallback\"><pre>GridSearchCV(cv=5, estimator=AdaBoostClassifier(), n_jobs=-1,\n",
       "             param_grid={&#x27;algorithm&#x27;: [&#x27;SAMME&#x27;, &#x27;SAMME.R&#x27;],\n",
       "                         &#x27;learning_rate&#x27;: [1.0, 1.2, 1.3, 1.5],\n",
       "                         &#x27;n_estimators&#x27;: [100, 150, 200, 250]},\n",
       "             scoring=&#x27;accuracy&#x27;)</pre><b>In a Jupyter environment, please rerun this cell to show the HTML representation or trust the notebook. <br />On GitHub, the HTML representation is unable to render, please try loading this page with nbviewer.org.</b></div><div class=\"sk-container\" hidden><div class=\"sk-item sk-dashed-wrapped\"><div class=\"sk-label-container\"><div class=\"sk-label sk-toggleable\"><input class=\"sk-toggleable__control sk-hidden--visually\" id=\"sk-estimator-id-4\" type=\"checkbox\" ><label for=\"sk-estimator-id-4\" class=\"sk-toggleable__label sk-toggleable__label-arrow\">GridSearchCV</label><div class=\"sk-toggleable__content\"><pre>GridSearchCV(cv=5, estimator=AdaBoostClassifier(), n_jobs=-1,\n",
       "             param_grid={&#x27;algorithm&#x27;: [&#x27;SAMME&#x27;, &#x27;SAMME.R&#x27;],\n",
       "                         &#x27;learning_rate&#x27;: [1.0, 1.2, 1.3, 1.5],\n",
       "                         &#x27;n_estimators&#x27;: [100, 150, 200, 250]},\n",
       "             scoring=&#x27;accuracy&#x27;)</pre></div></div></div><div class=\"sk-parallel\"><div class=\"sk-parallel-item\"><div class=\"sk-item\"><div class=\"sk-label-container\"><div class=\"sk-label sk-toggleable\"><input class=\"sk-toggleable__control sk-hidden--visually\" id=\"sk-estimator-id-5\" type=\"checkbox\" ><label for=\"sk-estimator-id-5\" class=\"sk-toggleable__label sk-toggleable__label-arrow\">estimator: AdaBoostClassifier</label><div class=\"sk-toggleable__content\"><pre>AdaBoostClassifier()</pre></div></div></div><div class=\"sk-serial\"><div class=\"sk-item\"><div class=\"sk-estimator sk-toggleable\"><input class=\"sk-toggleable__control sk-hidden--visually\" id=\"sk-estimator-id-6\" type=\"checkbox\" ><label for=\"sk-estimator-id-6\" class=\"sk-toggleable__label sk-toggleable__label-arrow\">AdaBoostClassifier</label><div class=\"sk-toggleable__content\"><pre>AdaBoostClassifier()</pre></div></div></div></div></div></div></div></div></div></div>"
      ],
      "text/plain": [
       "GridSearchCV(cv=5, estimator=AdaBoostClassifier(), n_jobs=-1,\n",
       "             param_grid={'algorithm': ['SAMME', 'SAMME.R'],\n",
       "                         'learning_rate': [1.0, 1.2, 1.3, 1.5],\n",
       "                         'n_estimators': [100, 150, 200, 250]},\n",
       "             scoring='accuracy')"
      ]
     },
     "execution_count": 9,
     "metadata": {},
     "output_type": "execute_result"
    }
   ],
   "source": [
    "%%time\n",
    "\n",
    "grid_rf = GridSearchCV(\n",
    "    estimator = AdaBoostClassifier(),\n",
    "    param_grid = parameters,\n",
    "    scoring = 'accuracy', \n",
    "    cv = 5,\n",
    "    n_jobs = -1\n",
    ")\n",
    "\n",
    "grid_rf.fit(X, y)"
   ]
  },
  {
   "cell_type": "markdown",
   "id": "67cf418f",
   "metadata": {},
   "source": [
    "- **Parâmetros testados:**"
   ]
  },
  {
   "cell_type": "code",
   "execution_count": 10,
   "id": "4b877e03",
   "metadata": {},
   "outputs": [
    {
     "data": {
      "text/plain": [
       "[{'algorithm': 'SAMME', 'learning_rate': 1.0, 'n_estimators': 100},\n",
       " {'algorithm': 'SAMME', 'learning_rate': 1.0, 'n_estimators': 150},\n",
       " {'algorithm': 'SAMME', 'learning_rate': 1.0, 'n_estimators': 200},\n",
       " {'algorithm': 'SAMME', 'learning_rate': 1.0, 'n_estimators': 250},\n",
       " {'algorithm': 'SAMME', 'learning_rate': 1.2, 'n_estimators': 100},\n",
       " {'algorithm': 'SAMME', 'learning_rate': 1.2, 'n_estimators': 150},\n",
       " {'algorithm': 'SAMME', 'learning_rate': 1.2, 'n_estimators': 200},\n",
       " {'algorithm': 'SAMME', 'learning_rate': 1.2, 'n_estimators': 250},\n",
       " {'algorithm': 'SAMME', 'learning_rate': 1.3, 'n_estimators': 100},\n",
       " {'algorithm': 'SAMME', 'learning_rate': 1.3, 'n_estimators': 150},\n",
       " {'algorithm': 'SAMME', 'learning_rate': 1.3, 'n_estimators': 200},\n",
       " {'algorithm': 'SAMME', 'learning_rate': 1.3, 'n_estimators': 250},\n",
       " {'algorithm': 'SAMME', 'learning_rate': 1.5, 'n_estimators': 100},\n",
       " {'algorithm': 'SAMME', 'learning_rate': 1.5, 'n_estimators': 150},\n",
       " {'algorithm': 'SAMME', 'learning_rate': 1.5, 'n_estimators': 200},\n",
       " {'algorithm': 'SAMME', 'learning_rate': 1.5, 'n_estimators': 250},\n",
       " {'algorithm': 'SAMME.R', 'learning_rate': 1.0, 'n_estimators': 100},\n",
       " {'algorithm': 'SAMME.R', 'learning_rate': 1.0, 'n_estimators': 150},\n",
       " {'algorithm': 'SAMME.R', 'learning_rate': 1.0, 'n_estimators': 200},\n",
       " {'algorithm': 'SAMME.R', 'learning_rate': 1.0, 'n_estimators': 250},\n",
       " {'algorithm': 'SAMME.R', 'learning_rate': 1.2, 'n_estimators': 100},\n",
       " {'algorithm': 'SAMME.R', 'learning_rate': 1.2, 'n_estimators': 150},\n",
       " {'algorithm': 'SAMME.R', 'learning_rate': 1.2, 'n_estimators': 200},\n",
       " {'algorithm': 'SAMME.R', 'learning_rate': 1.2, 'n_estimators': 250},\n",
       " {'algorithm': 'SAMME.R', 'learning_rate': 1.3, 'n_estimators': 100},\n",
       " {'algorithm': 'SAMME.R', 'learning_rate': 1.3, 'n_estimators': 150},\n",
       " {'algorithm': 'SAMME.R', 'learning_rate': 1.3, 'n_estimators': 200},\n",
       " {'algorithm': 'SAMME.R', 'learning_rate': 1.3, 'n_estimators': 250},\n",
       " {'algorithm': 'SAMME.R', 'learning_rate': 1.5, 'n_estimators': 100},\n",
       " {'algorithm': 'SAMME.R', 'learning_rate': 1.5, 'n_estimators': 150},\n",
       " {'algorithm': 'SAMME.R', 'learning_rate': 1.5, 'n_estimators': 200},\n",
       " {'algorithm': 'SAMME.R', 'learning_rate': 1.5, 'n_estimators': 250}]"
      ]
     },
     "execution_count": 10,
     "metadata": {},
     "output_type": "execute_result"
    }
   ],
   "source": [
    "grid_rf.cv_results_['params']"
   ]
  },
  {
   "cell_type": "markdown",
   "id": "50ed4ba4",
   "metadata": {},
   "source": [
    "- **Melhores parâmetros:**"
   ]
  },
  {
   "cell_type": "code",
   "execution_count": 11,
   "id": "dc0ebde4",
   "metadata": {},
   "outputs": [
    {
     "name": "stdout",
     "output_type": "stream",
     "text": [
      "AdaBoostClassifier(algorithm='SAMME', learning_rate=1.3, n_estimators=100)\n"
     ]
    }
   ],
   "source": [
    "print(grid_rf.best_estimator_)"
   ]
  }
 ],
 "metadata": {
  "kernelspec": {
   "display_name": "Python 3 (ipykernel)",
   "language": "python",
   "name": "python3"
  },
  "language_info": {
   "codemirror_mode": {
    "name": "ipython",
    "version": 3
   },
   "file_extension": ".py",
   "mimetype": "text/x-python",
   "name": "python",
   "nbconvert_exporter": "python",
   "pygments_lexer": "ipython3",
   "version": "3.9.16"
  }
 },
 "nbformat": 4,
 "nbformat_minor": 5
}
