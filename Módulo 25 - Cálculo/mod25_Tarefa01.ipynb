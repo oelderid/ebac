{
 "cells": [
  {
   "cell_type": "markdown",
   "metadata": {},
   "source": [
    "# Cálculo - Tarefa 01\n",
    "\n",
    "1. Marque quais desses métodos/algoritmos muito populares em ciência de dados são baseados no uso de derivada:\n",
    "\n",
    "    1. Método Mínimos Quadrados\n",
    "    2. Gradiente descendente\n",
    "    3. Newton Raphson\n",
    "    4. CART (Árvore de decisão)"
   ]
  },
  {
   "cell_type": "markdown",
   "metadata": {},
   "source": [
    "**Respostas:** A, B e C\n",
    "\n",
    "**Método Mínimos Quadrados**\n",
    "\n",
    "O método dos mínimos quadrados é um método de regressão que minimiza a soma dos quadrados das diferenças entre os valores previstos e os valores observados. Para isso, ele usa a derivada da função de custo, que é a soma dos quadrados das diferenças, para encontrar os parâmetros da função de regressão que minimizem essa soma. Portanto, o método dos mínimos quadrados é um método baseado em derivadas.\n",
    "\n",
    "\n",
    "**Gradiente descendente**\n",
    "\n",
    "O algoritmo funciona ajustando iterativamente os parâmetros na direção oposta ao gradiente da função de custo. O gradiente é um vetor composto pelas derivadas parciais da função em relação a cada parâmetro. Ao seguir a direção oposta ao gradiente, o algoritmo busca encontrar o ponto de mínimo local ou global da função de custo.\n",
    "\n",
    "Em cada iteração, o gradiente é calculado e os parâmetros são atualizados proporcionalmente ao valor do gradiente. Essa atualização é realizada multiplicando o gradiente por uma taxa de aprendizagem (learning rate) para controlar o tamanho do passo dado em direção ao mínimo. A taxa de aprendizagem é um hiperparâmetro que precisa ser ajustado adequadamente para garantir uma convergência eficiente do algoritmo. Portanto, o Método de Gradiente Descendente é baseado no cálculo e utilização das derivadas da função de custo em relação aos parâmetros do modelo.\n",
    "\n",
    "\n",
    "**Newton Raphson**\n",
    "\n",
    "É um algoritmo iterativo utilizado para encontrar as raízes de uma função não linear. O método começa com uma estimativa inicial da raiz e, em cada iteração, utiliza a derivada da função e a informação local da função para atualizar a estimativa da raiz.\n",
    "\n",
    "O método de Newton-Raphson converge rapidamente para a raiz, desde que a estimativa inicial esteja próxima da raiz e a função seja bem comportada (continuamente diferenciável). No entanto, pode haver casos em que o método não converge ou converge para uma raiz errada. Portanto, o Método de Newton-Raphson é baseado no uso das derivadas da função para encontrar as raízes de uma função não linear.\n",
    "\n",
    "\n",
    "**CART (Árvore de decisão)**\n",
    "\n",
    "A árvore de decisão é um algoritmo de aprendizado supervisionado que pode ser usado para classificação ou regressão. Ela funciona construindo uma árvore a partir de um conjunto de dados de treinamento. Cada nó da árvore representa uma condição, e cada ramo representa uma decisão a ser tomada.\n",
    "\n",
    "O método de árvore de decisão não usa derivadas para construir a árvore. Em vez disso, ele usa uma abordagem de divisão recursiva do conjunto de dados. Portanto, o método de árvore de decisão não é um método baseado em derivadas.\n",
    "\n",
    "\n",
    "Fontes:\n",
    "- https://pt.wikipedia.org/wiki/Método_dos_mínimos_quadrados\n",
    "- https://pt.wikipedia.org/wiki/Método_do_gradiente\n",
    "- https://pt.wikipedia.org/wiki/Método_de_Newton–Raphson"
   ]
  },
  {
   "cell_type": "markdown",
   "metadata": {},
   "source": []
  },
  {
   "cell_type": "markdown",
   "metadata": {},
   "source": [
    "2. Dada uma base de dados com uma variável resposta $y$ e um conjunto de variáveis explicativas. Considere uma estrutura de um modelo de regressão. Explique com suas palavras por que não é possível obter parâmetros que forneçam um erro quadrático médio (EQM) menor que o obtido com estimadores de mínimos quadrados."
   ]
  },
  {
   "cell_type": "markdown",
   "metadata": {},
   "source": [
    "O EQM é uma medida comum para avaliar a precisão do ajuste do modelo aos dados. Ele representa a média dos quadrados das diferenças entre os valores observados e os valores preditos pelo modelo. O objetivo é encontrar os parâmetros que minimizam esse erro, tornando os valores preditos o mais próximos possível dos valores observados.\n",
    "\n",
    "No entanto, existem algumas situações em que não é possível obter parâmetros que forneçam um EQM menor do que o obtido com os estimadores de mínimos quadrados. Essas situações incluem:\n",
    "\n",
    "- Suposições incorretas sobre a estrutura do modelo: Se o modelo escolhido não representa adequadamente a relação entre as variáveis explicativas e a variável resposta, os estimadores de mínimos quadrados podem não ser capazes de capturar essa relação corretamente. Nesse caso, mesmo que sejam feitas tentativas para estimar os parâmetros de forma diferente, o erro não diminuirá significativamente.\n",
    "\n",
    "- Variáveis omitidas ou irrelevantes: Se variáveis importantes forem omitidas do modelo ou se forem incluídas variáveis irrelevantes, os estimadores de mínimos quadrados podem não ser capazes de estimar corretamente os efeitos das variáveis explicativas na variável resposta. Isso pode resultar em um EQM mais alto do que o desejado.\n",
    "\n",
    "- Violação das suposições do modelo: Os estimadores de mínimos quadrados assumem certas condições, como linearidade, independência e homocedasticidade dos erros. Se essas suposições forem violadas, os estimadores podem não ser os melhores para obter um EQM mínimo. Nesses casos, podem ser necessários métodos alternativos, como regressão robusta ou modelos não lineares, para obter resultados mais precisos.\n",
    "\n",
    "Em resumo, embora seja possível explorar diferentes métodos de estimativa de parâmetros, em certas situações, esses métodos podem não conseguir superar os estimadores de mínimos quadrados em termos de minimização do EQM. É importante considerar cuidadosamente a qualidade do modelo, a adequação das variáveis explicativas e a validade das suposições antes de buscar alternativas aos estimadores de mínimos quadrados."
   ]
  },
  {
   "cell_type": "code",
   "execution_count": null,
   "metadata": {},
   "outputs": [],
   "source": []
  }
 ],
 "metadata": {
  "kernelspec": {
   "display_name": "Python 3 (ipykernel)",
   "language": "python",
   "name": "python3"
  },
  "language_info": {
   "codemirror_mode": {
    "name": "ipython",
    "version": 3
   },
   "file_extension": ".py",
   "mimetype": "text/x-python",
   "name": "python",
   "nbconvert_exporter": "python",
   "pygments_lexer": "ipython3",
   "version": "3.9.16"
  },
  "toc": {
   "base_numbering": 1,
   "nav_menu": {},
   "number_sections": true,
   "sideBar": true,
   "skip_h1_title": true,
   "title_cell": "Índice",
   "title_sidebar": "Conteúdo",
   "toc_cell": false,
   "toc_position": {},
   "toc_section_display": true,
   "toc_window_display": false
  },
  "varInspector": {
   "cols": {
    "lenName": 16,
    "lenType": 16,
    "lenVar": 40
   },
   "kernels_config": {
    "python": {
     "delete_cmd_postfix": "",
     "delete_cmd_prefix": "del ",
     "library": "var_list.py",
     "varRefreshCmd": "print(var_dic_list())"
    },
    "r": {
     "delete_cmd_postfix": ") ",
     "delete_cmd_prefix": "rm(",
     "library": "var_list.r",
     "varRefreshCmd": "cat(var_dic_list()) "
    }
   },
   "types_to_exclude": [
    "module",
    "function",
    "builtin_function_or_method",
    "instance",
    "_Feature"
   ],
   "window_display": false
  }
 },
 "nbformat": 4,
 "nbformat_minor": 4
}
